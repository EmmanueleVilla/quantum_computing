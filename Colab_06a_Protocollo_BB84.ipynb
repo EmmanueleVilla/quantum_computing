{
  "nbformat": 4,
  "nbformat_minor": 0,
  "metadata": {
    "colab": {
      "provenance": [],
      "authorship_tag": "ABX9TyPBirz9j936/Yf3NFSomTeC",
      "include_colab_link": true
    },
    "kernelspec": {
      "name": "python3",
      "display_name": "Python 3"
    },
    "language_info": {
      "name": "python"
    }
  },
  "cells": [
    {
      "cell_type": "markdown",
      "metadata": {
        "id": "view-in-github",
        "colab_type": "text"
      },
      "source": [
        "<a href=\"https://colab.research.google.com/github/EmmanueleVilla/quantum_computing/blob/main/Colab_06a_Protocollo_BB84.ipynb\" target=\"_parent\"><img src=\"https://colab.research.google.com/assets/colab-badge.svg\" alt=\"Open In Colab\"/></a>"
      ]
    },
    {
      "cell_type": "code",
      "execution_count": null,
      "metadata": {
        "id": "Sz2rUvY8LUkP"
      },
      "outputs": [],
      "source": [
        "import numpy as np"
      ]
    },
    {
      "cell_type": "code",
      "source": [
        "alice_qubits = np.random.randint(0, 2, 10000)\n",
        "alice_qubits"
      ],
      "metadata": {
        "colab": {
          "base_uri": "https://localhost:8080/"
        },
        "id": "aCqIiNp7Lrhq",
        "outputId": "e921c651-98e3-4a49-e128-fc16030ea6ae"
      },
      "execution_count": null,
      "outputs": [
        {
          "output_type": "execute_result",
          "data": {
            "text/plain": [
              "array([1, 1, 0, ..., 0, 0, 1])"
            ]
          },
          "metadata": {},
          "execution_count": 50
        }
      ]
    },
    {
      "cell_type": "code",
      "source": [
        "alice_basis = np.random.randint(0, 2, 10000)\n",
        "alice_basis"
      ],
      "metadata": {
        "colab": {
          "base_uri": "https://localhost:8080/"
        },
        "id": "kGfj2CvpL4ah",
        "outputId": "37dd2e2d-50aa-430c-c03f-b4658cbbf743"
      },
      "execution_count": null,
      "outputs": [
        {
          "output_type": "execute_result",
          "data": {
            "text/plain": [
              "array([0, 0, 1, ..., 1, 0, 0])"
            ]
          },
          "metadata": {},
          "execution_count": 51
        }
      ]
    },
    {
      "cell_type": "code",
      "source": [
        "bob_basis = np.random.randint(0, 2, 10000)\n",
        "bob_basis"
      ],
      "metadata": {
        "colab": {
          "base_uri": "https://localhost:8080/"
        },
        "id": "MIjJOtxaL_-h",
        "outputId": "9fdefcbc-4b4a-4338-ea07-a2293238ee34"
      },
      "execution_count": null,
      "outputs": [
        {
          "output_type": "execute_result",
          "data": {
            "text/plain": [
              "array([1, 0, 0, ..., 1, 0, 1])"
            ]
          },
          "metadata": {},
          "execution_count": 52
        }
      ]
    },
    {
      "cell_type": "code",
      "source": [
        "bob_measurements = [alice_qubits[i] if alice_basis[i] == bob_basis[i] else np.random.randint(0, 2) for i in range(10000)]\n",
        "bob_measurements = np.asarray(bob_measurements)\n",
        "bob_measurements"
      ],
      "metadata": {
        "colab": {
          "base_uri": "https://localhost:8080/"
        },
        "id": "smg_MIvnMJ3x",
        "outputId": "c6013ae5-ff20-4d0c-f374-6f5a2bf0168c"
      },
      "execution_count": null,
      "outputs": [
        {
          "output_type": "execute_result",
          "data": {
            "text/plain": [
              "array([1, 1, 1, ..., 0, 0, 0])"
            ]
          },
          "metadata": {},
          "execution_count": 53
        }
      ]
    },
    {
      "cell_type": "code",
      "source": [
        "pairs = zip(alice_qubits, bob_measurements)\n",
        "pairs"
      ],
      "metadata": {
        "colab": {
          "base_uri": "https://localhost:8080/"
        },
        "id": "DQwv-Y7bMgOB",
        "outputId": "7ecc131a-24cb-4057-938a-d80a40b0c53e"
      },
      "execution_count": null,
      "outputs": [
        {
          "output_type": "execute_result",
          "data": {
            "text/plain": [
              "<zip at 0x7fe5f0049100>"
            ]
          },
          "metadata": {},
          "execution_count": 54
        }
      ]
    },
    {
      "cell_type": "code",
      "source": [
        "correct = sum(1 for alice, bob in pairs if alice==bob)\n",
        "print(correct/100)"
      ],
      "metadata": {
        "colab": {
          "base_uri": "https://localhost:8080/"
        },
        "id": "dAO6zuN7M50Y",
        "outputId": "721b853f-0e95-4fd4-ac59-d9c8d98ef646"
      },
      "execution_count": null,
      "outputs": [
        {
          "output_type": "stream",
          "name": "stdout",
          "text": [
            "74.86\n"
          ]
        }
      ]
    },
    {
      "cell_type": "code",
      "source": [
        "eve_basis = np.random.randint(0, 2, 10000)\n",
        "eve_basis"
      ],
      "metadata": {
        "colab": {
          "base_uri": "https://localhost:8080/"
        },
        "id": "wIoQ3toQNJwo",
        "outputId": "0f285435-dfb7-4858-9c14-9899c5f47f36"
      },
      "execution_count": null,
      "outputs": [
        {
          "output_type": "execute_result",
          "data": {
            "text/plain": [
              "array([0, 0, 1, ..., 0, 0, 0])"
            ]
          },
          "metadata": {},
          "execution_count": 56
        }
      ]
    },
    {
      "cell_type": "code",
      "source": [
        "bob_measurements = [alice_qubits[i] if alice_basis[i] == bob_basis[i] and eve_basis[i] == bob_basis[i] else np.random.randint(0, 2) for i in range(10000)]\n",
        "bob_measurements = np.asarray(bob_measurements)\n",
        "bob_measurements"
      ],
      "metadata": {
        "colab": {
          "base_uri": "https://localhost:8080/"
        },
        "id": "LyeOQlZKN09H",
        "outputId": "072889db-4452-4320-f23f-579507b67ab7"
      },
      "execution_count": null,
      "outputs": [
        {
          "output_type": "execute_result",
          "data": {
            "text/plain": [
              "array([1, 1, 1, ..., 1, 0, 0])"
            ]
          },
          "metadata": {},
          "execution_count": 57
        }
      ]
    },
    {
      "cell_type": "code",
      "source": [
        "pairs = zip(alice_qubits, bob_measurements)\n",
        "pairs"
      ],
      "metadata": {
        "colab": {
          "base_uri": "https://localhost:8080/"
        },
        "id": "lsLcQyXgOA_u",
        "outputId": "3bc737f3-435e-4327-babc-dec268cfb627"
      },
      "execution_count": null,
      "outputs": [
        {
          "output_type": "execute_result",
          "data": {
            "text/plain": [
              "<zip at 0x7fe5f004e5c0>"
            ]
          },
          "metadata": {},
          "execution_count": 58
        }
      ]
    },
    {
      "cell_type": "code",
      "source": [
        "correct = sum(1 for alice, bob in pairs if alice==bob)\n",
        "print(correct/100)"
      ],
      "metadata": {
        "colab": {
          "base_uri": "https://localhost:8080/"
        },
        "id": "PZ4rXAybODmn",
        "outputId": "d853c647-0e04-4d82-d8aa-fcdbccd06139"
      },
      "execution_count": null,
      "outputs": [
        {
          "output_type": "stream",
          "name": "stdout",
          "text": [
            "62.67\n"
          ]
        }
      ]
    },
    {
      "cell_type": "code",
      "source": [],
      "metadata": {
        "id": "jWB-RsrwOFEu"
      },
      "execution_count": null,
      "outputs": []
    }
  ]
}