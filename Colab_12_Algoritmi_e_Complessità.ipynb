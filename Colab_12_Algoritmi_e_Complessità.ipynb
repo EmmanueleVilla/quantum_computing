{
  "nbformat": 4,
  "nbformat_minor": 0,
  "metadata": {
    "colab": {
      "provenance": [],
      "authorship_tag": "ABX9TyOsroA8/hqRgkJU3kkiBBIr",
      "include_colab_link": true
    },
    "kernelspec": {
      "name": "python3",
      "display_name": "Python 3"
    },
    "language_info": {
      "name": "python"
    }
  },
  "cells": [
    {
      "cell_type": "markdown",
      "metadata": {
        "id": "view-in-github",
        "colab_type": "text"
      },
      "source": [
        "<a href=\"https://colab.research.google.com/github/EmmanueleVilla/quantum_computing/blob/main/Colab_12_Algoritmi_e_Complessit%C3%A0.ipynb\" target=\"_parent\"><img src=\"https://colab.research.google.com/assets/colab-badge.svg\" alt=\"Open In Colab\"/></a>"
      ]
    },
    {
      "cell_type": "code",
      "execution_count": 1,
      "metadata": {
        "colab": {
          "base_uri": "https://localhost:8080/"
        },
        "id": "YzGuwbUHVESZ",
        "outputId": "82ed8987-8713-418d-f153-46ae9949b11d"
      },
      "outputs": [
        {
          "output_type": "stream",
          "name": "stdout",
          "text": [
            "Collecting ipython-autotime\n",
            "  Downloading ipython_autotime-0.3.1-py2.py3-none-any.whl (6.8 kB)\n",
            "Requirement already satisfied: ipython in /usr/local/lib/python3.10/dist-packages (from ipython-autotime) (7.34.0)\n",
            "Requirement already satisfied: setuptools>=18.5 in /usr/local/lib/python3.10/dist-packages (from ipython->ipython-autotime) (67.7.2)\n",
            "Collecting jedi>=0.16 (from ipython->ipython-autotime)\n",
            "  Downloading jedi-0.18.2-py2.py3-none-any.whl (1.6 MB)\n",
            "\u001b[2K     \u001b[90m━━━━━━━━━━━━━━━━━━━━━━━━━━━━━━━━━━━━━━━━\u001b[0m \u001b[32m1.6/1.6 MB\u001b[0m \u001b[31m9.7 MB/s\u001b[0m eta \u001b[36m0:00:00\u001b[0m\n",
            "\u001b[?25hRequirement already satisfied: decorator in /usr/local/lib/python3.10/dist-packages (from ipython->ipython-autotime) (4.4.2)\n",
            "Requirement already satisfied: pickleshare in /usr/local/lib/python3.10/dist-packages (from ipython->ipython-autotime) (0.7.5)\n",
            "Requirement already satisfied: traitlets>=4.2 in /usr/local/lib/python3.10/dist-packages (from ipython->ipython-autotime) (5.7.1)\n",
            "Requirement already satisfied: prompt-toolkit!=3.0.0,!=3.0.1,<3.1.0,>=2.0.0 in /usr/local/lib/python3.10/dist-packages (from ipython->ipython-autotime) (3.0.39)\n",
            "Requirement already satisfied: pygments in /usr/local/lib/python3.10/dist-packages (from ipython->ipython-autotime) (2.14.0)\n",
            "Requirement already satisfied: backcall in /usr/local/lib/python3.10/dist-packages (from ipython->ipython-autotime) (0.2.0)\n",
            "Requirement already satisfied: matplotlib-inline in /usr/local/lib/python3.10/dist-packages (from ipython->ipython-autotime) (0.1.6)\n",
            "Requirement already satisfied: pexpect>4.3 in /usr/local/lib/python3.10/dist-packages (from ipython->ipython-autotime) (4.8.0)\n",
            "Requirement already satisfied: parso<0.9.0,>=0.8.0 in /usr/local/lib/python3.10/dist-packages (from jedi>=0.16->ipython->ipython-autotime) (0.8.3)\n",
            "Requirement already satisfied: ptyprocess>=0.5 in /usr/local/lib/python3.10/dist-packages (from pexpect>4.3->ipython->ipython-autotime) (0.7.0)\n",
            "Requirement already satisfied: wcwidth in /usr/local/lib/python3.10/dist-packages (from prompt-toolkit!=3.0.0,!=3.0.1,<3.1.0,>=2.0.0->ipython->ipython-autotime) (0.2.6)\n",
            "Installing collected packages: jedi, ipython-autotime\n",
            "Successfully installed ipython-autotime-0.3.1 jedi-0.18.2\n"
          ]
        }
      ],
      "source": [
        "!pip install ipython-autotime"
      ]
    },
    {
      "cell_type": "code",
      "source": [
        "%load_ext autotime"
      ],
      "metadata": {
        "colab": {
          "base_uri": "https://localhost:8080/"
        },
        "id": "D0ke_xL0VIbN",
        "outputId": "5822745c-b034-49a9-a26b-b111f055ec24"
      },
      "execution_count": 2,
      "outputs": [
        {
          "output_type": "stream",
          "name": "stdout",
          "text": [
            "time: 469 µs (started: 2023-07-26 08:37:25 +00:00)\n"
          ]
        }
      ]
    },
    {
      "cell_type": "code",
      "source": [
        "import numpy as np"
      ],
      "metadata": {
        "colab": {
          "base_uri": "https://localhost:8080/"
        },
        "id": "0JbmeJgxWLDa",
        "outputId": "c0aeccec-6345-4b3f-e3e2-d83ec7edb3a7"
      },
      "execution_count": 3,
      "outputs": [
        {
          "output_type": "stream",
          "name": "stdout",
          "text": [
            "time: 444 µs (started: 2023-07-26 08:37:37 +00:00)\n"
          ]
        }
      ]
    },
    {
      "cell_type": "markdown",
      "source": [
        "## Accesso all'elemento di una lista"
      ],
      "metadata": {
        "id": "W_WH-b43WRWi"
      }
    },
    {
      "cell_type": "code",
      "source": [
        "lista = np.random.randint(0, 1000, 1000000)"
      ],
      "metadata": {
        "colab": {
          "base_uri": "https://localhost:8080/"
        },
        "id": "nF87NxZzWUx5",
        "outputId": "26f9b64d-0258-481e-b16d-376bae17de8d"
      },
      "execution_count": 12,
      "outputs": [
        {
          "output_type": "stream",
          "name": "stdout",
          "text": [
            "time: 15.3 ms (started: 2023-07-26 08:38:48 +00:00)\n"
          ]
        }
      ]
    },
    {
      "cell_type": "code",
      "source": [
        "print(lista[5])"
      ],
      "metadata": {
        "colab": {
          "base_uri": "https://localhost:8080/"
        },
        "id": "LVFhpdoIWZD6",
        "outputId": "bb96b769-cd3c-49ff-f345-f1920fcc05e1"
      },
      "execution_count": 15,
      "outputs": [
        {
          "output_type": "stream",
          "name": "stdout",
          "text": [
            "586\n",
            "time: 671 µs (started: 2023-07-26 08:38:55 +00:00)\n"
          ]
        }
      ]
    },
    {
      "cell_type": "markdown",
      "source": [
        "## Massimo elemento in una lista"
      ],
      "metadata": {
        "id": "mfxfbBSxXV2I"
      }
    },
    {
      "cell_type": "code",
      "source": [
        "lista = np.random.randint(0, 1000, 10000000)"
      ],
      "metadata": {
        "colab": {
          "base_uri": "https://localhost:8080/"
        },
        "id": "SyTB4pwxXX-n",
        "outputId": "d2ac54d4-7a76-4990-9531-ec9cf5979082"
      },
      "execution_count": 33,
      "outputs": [
        {
          "output_type": "stream",
          "name": "stdout",
          "text": [
            "time: 105 ms (started: 2023-07-26 08:43:56 +00:00)\n"
          ]
        }
      ]
    },
    {
      "cell_type": "code",
      "source": [
        "massimo = 0\n",
        "for numero in lista:\n",
        "  if numero > massimo:\n",
        "    massimo = numero\n",
        "\n",
        "print(massimo)"
      ],
      "metadata": {
        "colab": {
          "base_uri": "https://localhost:8080/"
        },
        "id": "cRaXMAVtXZ_X",
        "outputId": "37d1d8f4-9df4-4b63-a9fc-f3492569bc6d"
      },
      "execution_count": 35,
      "outputs": [
        {
          "output_type": "stream",
          "name": "stdout",
          "text": [
            "999\n",
            "time: 1.33 s (started: 2023-07-26 08:44:00 +00:00)\n"
          ]
        }
      ]
    },
    {
      "cell_type": "markdown",
      "source": [
        "## Bubble sort"
      ],
      "metadata": {
        "id": "_sdN99WVYXbf"
      }
    },
    {
      "cell_type": "code",
      "source": [
        "lista = np.random.randint(0, 1000, 10000)"
      ],
      "metadata": {
        "colab": {
          "base_uri": "https://localhost:8080/"
        },
        "id": "471k3vK3YZGO",
        "outputId": "dca158d2-a826-4e0b-c4fd-817dad980763"
      },
      "execution_count": 42,
      "outputs": [
        {
          "output_type": "stream",
          "name": "stdout",
          "text": [
            "time: 6.95 ms (started: 2023-07-26 08:50:44 +00:00)\n"
          ]
        }
      ]
    },
    {
      "cell_type": "code",
      "source": [
        "def bubble_sort(arr):\n",
        "  n = len(arr)\n",
        "  while(True):\n",
        "    swapped = False\n",
        "    for i in range(n-1):\n",
        "      if arr[i] > arr[i+1]:\n",
        "        arr[i], arr[i+1] = arr[i+1], arr[i]\n",
        "        swapped = True\n",
        "    if not swapped:\n",
        "      break\n",
        "bubble_sort(lista)\n",
        "print(np.asarray(lista))"
      ],
      "metadata": {
        "colab": {
          "base_uri": "https://localhost:8080/"
        },
        "id": "7E7HVaYIYb2e",
        "outputId": "fec5f364-d84b-481a-f6b6-02739e8dafd8"
      },
      "execution_count": 43,
      "outputs": [
        {
          "output_type": "stream",
          "name": "stdout",
          "text": [
            "[  0   0   0 ... 999 999 999]\n",
            "time: 43.5 s (started: 2023-07-26 08:50:46 +00:00)\n"
          ]
        }
      ]
    },
    {
      "cell_type": "markdown",
      "source": [
        "## Merge sort"
      ],
      "metadata": {
        "id": "VO5wZlS3aMe7"
      }
    },
    {
      "cell_type": "code",
      "source": [
        "lista = np.random.randint(0, 1000, 10000)"
      ],
      "metadata": {
        "colab": {
          "base_uri": "https://localhost:8080/"
        },
        "id": "2BmpkUeBaNyb",
        "outputId": "101ee3c8-3186-43f4-ad54-0c1e6cd745c2"
      },
      "execution_count": 49,
      "outputs": [
        {
          "output_type": "stream",
          "name": "stdout",
          "text": [
            "time: 931 µs (started: 2023-07-26 09:04:04 +00:00)\n"
          ]
        }
      ]
    },
    {
      "cell_type": "code",
      "source": [
        "def merge_sort(arr):\n",
        "  if len(arr) <= 1:\n",
        "    return arr\n",
        "\n",
        "  mid = len(arr) // 2\n",
        "\n",
        "  left = arr[:mid]\n",
        "  right = arr[mid:]\n",
        "\n",
        "  left_sorted = merge_sort(left)\n",
        "  right_sorted = merge_sort(right)\n",
        "\n",
        "  return merge(left_sorted, right_sorted)\n",
        "\n",
        "def merge(left, right):\n",
        "  merged = []\n",
        "  left_ptr = 0\n",
        "  right_ptr = 0\n",
        "  while left_ptr < len(left) and right_ptr < len(right):\n",
        "    if left[left_ptr] < right[right_ptr]:\n",
        "      merged.append(left[left_ptr])\n",
        "      left_ptr += 1\n",
        "    else:\n",
        "      merged.append(right[right_ptr])\n",
        "      right_ptr += 1\n",
        "\n",
        "  while left_ptr < len(left):\n",
        "    merged.append(left[left_ptr])\n",
        "    left_ptr += 1\n",
        "\n",
        "  while right_ptr < len(right):\n",
        "    merged.append(right[right_ptr])\n",
        "    right_ptr += 1\n",
        "\n",
        "  return merged\n",
        "\n",
        "ordered = merge_sort(lista)\n",
        "print(np.asarray(ordered))"
      ],
      "metadata": {
        "colab": {
          "base_uri": "https://localhost:8080/"
        },
        "id": "sTvIrvjOaRIa",
        "outputId": "b49d2aa6-9e9c-4b20-a31c-de245d1de666"
      },
      "execution_count": 53,
      "outputs": [
        {
          "output_type": "stream",
          "name": "stdout",
          "text": [
            "[  0   0   0 ... 999 999 999]\n",
            "time: 113 ms (started: 2023-07-26 09:04:15 +00:00)\n"
          ]
        }
      ]
    },
    {
      "cell_type": "markdown",
      "source": [
        "## Numeri di fibonacci"
      ],
      "metadata": {
        "id": "-prI8MhEdqi8"
      }
    },
    {
      "cell_type": "code",
      "source": [
        "def fibonacci(n):\n",
        "  if n <= 1:\n",
        "    return n\n",
        "  return fibonacci(n-1) + fibonacci(n-2)\n",
        "\n",
        "print(fibonacci(35))"
      ],
      "metadata": {
        "colab": {
          "base_uri": "https://localhost:8080/"
        },
        "id": "8IfE-s3Tds9L",
        "outputId": "f2d93bb0-4a3c-4515-9455-f09c64823350"
      },
      "execution_count": 62,
      "outputs": [
        {
          "output_type": "stream",
          "name": "stdout",
          "text": [
            "9227465\n",
            "time: 4.07 s (started: 2023-07-26 09:11:38 +00:00)\n"
          ]
        }
      ]
    },
    {
      "cell_type": "markdown",
      "source": [
        "## Permutazioni"
      ],
      "metadata": {
        "id": "I9H0-0x6eixK"
      }
    },
    {
      "cell_type": "code",
      "source": [
        "lista = [0,1,2,3,4,5,6,7,8,9,10]\n",
        "def heap_permutation(data, n):\n",
        "  if n == 1:\n",
        "    #print(data)\n",
        "    return\n",
        "  for i in range(n):\n",
        "    heap_permutation(data, n-1)\n",
        "    if n%2 == 0:\n",
        "      data[i], data[n-1] = data[n-1], data[i]\n",
        "    else:\n",
        "      data[0], data[n-1] = data[n-1], data[0]\n",
        "\n",
        "heap_permutation(lista, len(lista))"
      ],
      "metadata": {
        "colab": {
          "base_uri": "https://localhost:8080/"
        },
        "id": "tLxjngo5elVB",
        "outputId": "3032a72c-7385-47df-988f-8725c2cbd626"
      },
      "execution_count": 72,
      "outputs": [
        {
          "output_type": "stream",
          "name": "stdout",
          "text": [
            "time: 29.5 s (started: 2023-07-26 09:17:14 +00:00)\n"
          ]
        }
      ]
    },
    {
      "cell_type": "markdown",
      "source": [
        "## Grafico delle complessità"
      ],
      "metadata": {
        "id": "fRfEg4OaWq6S"
      }
    },
    {
      "cell_type": "code",
      "source": [
        "import matplotlib.pyplot as plt\n",
        "import math\n",
        "\n",
        "x = range(1, 26)\n",
        "\n",
        "plt.plot(x, [1 for i in x], label=\"1\")\n",
        "plt.plot(x, [i for i in x], label=\"N\")\n",
        "plt.plot(x, [i**2 for i in x], label=\"N^2\")\n",
        "plt.plot(x, [i*math.log(i) for i in x], label=\"N log N\")\n",
        "plt.plot(x, [2**i for i in x], label=\"2^N\")\n",
        "plt.plot(x, [math.factorial(i) for i in x], label=\"N!\")\n",
        "\n",
        "plt.xlim(0, len(x))\n",
        "plt.ylim(0, 100)\n",
        "\n",
        "plt.legend()\n",
        "\n",
        "plt.grid(True)\n",
        "plt.show()"
      ],
      "metadata": {
        "colab": {
          "base_uri": "https://localhost:8080/",
          "height": 452
        },
        "id": "BAUK3vDkWsLY",
        "outputId": "5494a8b0-1b2e-4508-fe52-e6fe818ab54e"
      },
      "execution_count": 74,
      "outputs": [
        {
          "output_type": "display_data",
          "data": {
            "text/plain": [
              "<Figure size 640x480 with 1 Axes>"
            ],
            "image/png": "[encoded data removed]"
          },
          "metadata": {}
        },
        {
          "output_type": "stream",
          "name": "stdout",
          "text": [
            "time: 651 ms (started: 2023-07-26 09:18:48 +00:00)\n"
          ]
        }
      ]
    },
    {
      "cell_type": "code",
      "source": [],
      "metadata": {
        "id": "YOAsxqKaWy6J"
      },
      "execution_count": null,
      "outputs": []
    }
  ]
}