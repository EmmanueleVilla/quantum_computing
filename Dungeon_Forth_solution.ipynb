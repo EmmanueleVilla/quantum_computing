{
  "nbformat": 4,
  "nbformat_minor": 0,
  "metadata": {
    "colab": {
      "provenance": [],
      "gpuType": "T4",
      "authorship_tag": "ABX9TyNoIWcwEY6h6uqHoiX0P6SG",
      "include_colab_link": true
    },
    "kernelspec": {
      "name": "python3",
      "display_name": "Python 3"
    },
    "language_info": {
      "name": "python"
    }
  },
  "cells": [
    {
      "cell_type": "markdown",
      "metadata": {
        "id": "view-in-github",
        "colab_type": "text"
      },
      "source": [
        "<a href=\"https://colab.research.google.com/github/EmmanueleVilla/quantum_computing/blob/main/Dungeon_Forth_solution.ipynb\" target=\"_parent\"><img src=\"https://colab.research.google.com/assets/colab-badge.svg\" alt=\"Open In Colab\"/></a>"
      ]
    },
    {
      "cell_type": "code",
      "execution_count": null,
      "metadata": {
        "colab": {
          "base_uri": "https://localhost:8080/"
        },
        "id": "SFY1mlE4iau0",
        "outputId": "7e37be01-b2a8-40ef-d21a-fa96bc09fdea"
      },
      "outputs": [
        {
          "output_type": "stream",
          "name": "stdout",
          "text": [
            "Collecting docplex\n",
            "  Downloading docplex-2.27.239.tar.gz (635 kB)\n",
            "\u001b[2K     \u001b[90m━━━━━━━━━━━━━━━━━━━━━━━━━━━━━━━━━━━━━━━━\u001b[0m \u001b[32m635.6/635.6 kB\u001b[0m \u001b[31m3.8 MB/s\u001b[0m eta \u001b[36m0:00:00\u001b[0m\n",
            "\u001b[?25h  Installing build dependencies ... \u001b[?25l\u001b[?25hdone\n",
            "  Getting requirements to build wheel ... \u001b[?25l\u001b[?25hdone\n",
            "  Installing backend dependencies ... \u001b[?25l\u001b[?25hdone\n",
            "  Preparing metadata (pyproject.toml) ... \u001b[?25l\u001b[?25hdone\n",
            "Requirement already satisfied: six in /usr/local/lib/python3.10/dist-packages (from docplex) (1.16.0)\n",
            "Building wheels for collected packages: docplex\n",
            "  Building wheel for docplex (pyproject.toml) ... \u001b[?25l\u001b[?25hdone\n",
            "  Created wheel for docplex: filename=docplex-2.27.239-py3-none-any.whl size=674503 sha256=4c6c613995530f6a093ab75477740bee616ceb1510fb4233ee1ba76968dbc830\n",
            "  Stored in directory: /root/.cache/pip/wheels/62/7c/db/cef9425e1cedbf45621545097eaaeed5efe07005bd8229dd74\n",
            "Successfully built docplex\n",
            "Installing collected packages: docplex\n",
            "Successfully installed docplex-2.27.239\n",
            "Collecting qiskit\n",
            "  Downloading qiskit-1.1.1-cp38-abi3-manylinux_2_17_x86_64.manylinux2014_x86_64.whl (4.3 MB)\n",
            "\u001b[2K     \u001b[90m━━━━━━━━━━━━━━━━━━━━━━━━━━━━━━━━━━━━━━━━\u001b[0m \u001b[32m4.3/4.3 MB\u001b[0m \u001b[31m14.9 MB/s\u001b[0m eta \u001b[36m0:00:00\u001b[0m\n",
            "\u001b[?25hCollecting rustworkx>=0.14.0 (from qiskit)\n",
            "  Downloading rustworkx-0.15.1-cp38-abi3-manylinux_2_17_x86_64.manylinux2014_x86_64.whl (2.0 MB)\n",
            "\u001b[2K     \u001b[90m━━━━━━━━━━━━━━━━━━━━━━━━━━━━━━━━━━━━━━━━\u001b[0m \u001b[32m2.0/2.0 MB\u001b[0m \u001b[31m44.2 MB/s\u001b[0m eta \u001b[36m0:00:00\u001b[0m\n",
            "\u001b[?25hRequirement already satisfied: numpy<3,>=1.17 in /usr/local/lib/python3.10/dist-packages (from qiskit) (1.25.2)\n",
            "Requirement already satisfied: scipy>=1.5 in /usr/local/lib/python3.10/dist-packages (from qiskit) (1.11.4)\n",
            "Requirement already satisfied: sympy>=1.3 in /usr/local/lib/python3.10/dist-packages (from qiskit) (1.13.0)\n",
            "Collecting dill>=0.3 (from qiskit)\n",
            "  Downloading dill-0.3.8-py3-none-any.whl (116 kB)\n",
            "\u001b[2K     \u001b[90m━━━━━━━━━━━━━━━━━━━━━━━━━━━━━━━━━━━━━━━━\u001b[0m \u001b[32m116.3/116.3 kB\u001b[0m \u001b[31m11.9 MB/s\u001b[0m eta \u001b[36m0:00:00\u001b[0m\n",
            "\u001b[?25hRequirement already satisfied: python-dateutil>=2.8.0 in /usr/local/lib/python3.10/dist-packages (from qiskit) (2.8.2)\n",
            "Collecting stevedore>=3.0.0 (from qiskit)\n",
            "  Downloading stevedore-5.2.0-py3-none-any.whl (49 kB)\n",
            "\u001b[2K     \u001b[90m━━━━━━━━━━━━━━━━━━━━━━━━━━━━━━━━━━━━━━━━\u001b[0m \u001b[32m49.7/49.7 kB\u001b[0m \u001b[31m5.3 MB/s\u001b[0m eta \u001b[36m0:00:00\u001b[0m\n",
            "\u001b[?25hRequirement already satisfied: typing-extensions in /usr/local/lib/python3.10/dist-packages (from qiskit) (4.12.2)\n",
            "Collecting symengine>=0.11 (from qiskit)\n",
            "  Downloading symengine-0.11.0-cp310-cp310-manylinux_2_12_x86_64.manylinux2010_x86_64.whl (39.4 MB)\n",
            "\u001b[2K     \u001b[90m━━━━━━━━━━━━━━━━━━━━━━━━━━━━━━━━━━━━━━━━\u001b[0m \u001b[32m39.4/39.4 MB\u001b[0m \u001b[31m11.2 MB/s\u001b[0m eta \u001b[36m0:00:00\u001b[0m\n",
            "\u001b[?25hRequirement already satisfied: six>=1.5 in /usr/local/lib/python3.10/dist-packages (from python-dateutil>=2.8.0->qiskit) (1.16.0)\n",
            "Collecting pbr!=2.1.0,>=2.0.0 (from stevedore>=3.0.0->qiskit)\n",
            "  Downloading pbr-6.0.0-py2.py3-none-any.whl (107 kB)\n",
            "\u001b[2K     \u001b[90m━━━━━━━━━━━━━━━━━━━━━━━━━━━━━━━━━━━━━━━━\u001b[0m \u001b[32m107.5/107.5 kB\u001b[0m \u001b[31m11.5 MB/s\u001b[0m eta \u001b[36m0:00:00\u001b[0m\n",
            "\u001b[?25hRequirement already satisfied: mpmath<1.4,>=1.1.0 in /usr/local/lib/python3.10/dist-packages (from sympy>=1.3->qiskit) (1.3.0)\n",
            "Installing collected packages: symengine, rustworkx, pbr, dill, stevedore, qiskit\n",
            "Successfully installed dill-0.3.8 pbr-6.0.0 qiskit-1.1.1 rustworkx-0.15.1 stevedore-5.2.0 symengine-0.11.0\n",
            "Collecting qiskit-optimization\n",
            "  Downloading qiskit_optimization-0.6.1-py3-none-any.whl (167 kB)\n",
            "\u001b[2K     \u001b[90m━━━━━━━━━━━━━━━━━━━━━━━━━━━━━━━━━━━━━━━━\u001b[0m \u001b[32m167.6/167.6 kB\u001b[0m \u001b[31m1.3 MB/s\u001b[0m eta \u001b[36m0:00:00\u001b[0m\n",
            "\u001b[?25hRequirement already satisfied: qiskit>=0.44 in /usr/local/lib/python3.10/dist-packages (from qiskit-optimization) (1.1.1)\n",
            "Collecting qiskit-algorithms>=0.2.0 (from qiskit-optimization)\n",
            "  Downloading qiskit_algorithms-0.3.0-py3-none-any.whl (308 kB)\n",
            "\u001b[2K     \u001b[90m━━━━━━━━━━━━━━━━━━━━━━━━━━━━━━━━━━━━━━━━\u001b[0m \u001b[32m308.6/308.6 kB\u001b[0m \u001b[31m5.6 MB/s\u001b[0m eta \u001b[36m0:00:00\u001b[0m\n",
            "\u001b[?25hRequirement already satisfied: scipy>=1.9.0 in /usr/local/lib/python3.10/dist-packages (from qiskit-optimization) (1.11.4)\n",
            "Requirement already satisfied: numpy>=1.17 in /usr/local/lib/python3.10/dist-packages (from qiskit-optimization) (1.25.2)\n",
            "Requirement already satisfied: docplex!=2.24.231,>=2.21.207 in /usr/local/lib/python3.10/dist-packages (from qiskit-optimization) (2.27.239)\n",
            "Requirement already satisfied: setuptools>=40.1.0 in /usr/local/lib/python3.10/dist-packages (from qiskit-optimization) (67.7.2)\n",
            "Requirement already satisfied: networkx>=2.6.3 in /usr/local/lib/python3.10/dist-packages (from qiskit-optimization) (3.3)\n",
            "Requirement already satisfied: six in /usr/local/lib/python3.10/dist-packages (from docplex!=2.24.231,>=2.21.207->qiskit-optimization) (1.16.0)\n",
            "Requirement already satisfied: rustworkx>=0.14.0 in /usr/local/lib/python3.10/dist-packages (from qiskit>=0.44->qiskit-optimization) (0.15.1)\n",
            "Requirement already satisfied: sympy>=1.3 in /usr/local/lib/python3.10/dist-packages (from qiskit>=0.44->qiskit-optimization) (1.13.0)\n",
            "Requirement already satisfied: dill>=0.3 in /usr/local/lib/python3.10/dist-packages (from qiskit>=0.44->qiskit-optimization) (0.3.8)\n",
            "Requirement already satisfied: python-dateutil>=2.8.0 in /usr/local/lib/python3.10/dist-packages (from qiskit>=0.44->qiskit-optimization) (2.8.2)\n",
            "Requirement already satisfied: stevedore>=3.0.0 in /usr/local/lib/python3.10/dist-packages (from qiskit>=0.44->qiskit-optimization) (5.2.0)\n",
            "Requirement already satisfied: typing-extensions in /usr/local/lib/python3.10/dist-packages (from qiskit>=0.44->qiskit-optimization) (4.12.2)\n",
            "Requirement already satisfied: symengine>=0.11 in /usr/local/lib/python3.10/dist-packages (from qiskit>=0.44->qiskit-optimization) (0.11.0)\n",
            "Requirement already satisfied: pbr!=2.1.0,>=2.0.0 in /usr/local/lib/python3.10/dist-packages (from stevedore>=3.0.0->qiskit>=0.44->qiskit-optimization) (6.0.0)\n",
            "Requirement already satisfied: mpmath<1.4,>=1.1.0 in /usr/local/lib/python3.10/dist-packages (from sympy>=1.3->qiskit>=0.44->qiskit-optimization) (1.3.0)\n",
            "Installing collected packages: qiskit-algorithms, qiskit-optimization\n",
            "Successfully installed qiskit-algorithms-0.3.0 qiskit-optimization-0.6.1\n",
            "Collecting qiskit-aer-gpu\n",
            "  Downloading qiskit_aer_gpu-0.14.2-cp310-cp310-manylinux_2_17_x86_64.manylinux2014_x86_64.whl (18.8 MB)\n",
            "\u001b[2K     \u001b[90m━━━━━━━━━━━━━━━━━━━━━━━━━━━━━━━━━━━━━━━━\u001b[0m \u001b[32m18.8/18.8 MB\u001b[0m \u001b[31m43.1 MB/s\u001b[0m eta \u001b[36m0:00:00\u001b[0m\n",
            "\u001b[?25hRequirement already satisfied: qiskit>=0.45.2 in /usr/local/lib/python3.10/dist-packages (from qiskit-aer-gpu) (1.1.1)\n",
            "Requirement already satisfied: numpy>=1.16.3 in /usr/local/lib/python3.10/dist-packages (from qiskit-aer-gpu) (1.25.2)\n",
            "Requirement already satisfied: scipy>=1.0 in /usr/local/lib/python3.10/dist-packages (from qiskit-aer-gpu) (1.11.4)\n",
            "Requirement already satisfied: psutil>=5 in /usr/local/lib/python3.10/dist-packages (from qiskit-aer-gpu) (5.9.5)\n",
            "Collecting nvidia-cuda-runtime-cu12>=12.1.105 (from qiskit-aer-gpu)\n",
            "  Downloading nvidia_cuda_runtime_cu12-12.5.82-py3-none-manylinux2014_x86_64.whl (895 kB)\n",
            "\u001b[2K     \u001b[90m━━━━━━━━━━━━━━━━━━━━━━━━━━━━━━━━━━━━━━━━\u001b[0m \u001b[32m895.7/895.7 kB\u001b[0m \u001b[31m48.9 MB/s\u001b[0m eta \u001b[36m0:00:00\u001b[0m\n",
            "\u001b[?25hCollecting nvidia-nvjitlink-cu12 (from qiskit-aer-gpu)\n",
            "  Downloading nvidia_nvjitlink_cu12-12.5.82-py3-none-manylinux2014_x86_64.whl (21.3 MB)\n",
            "\u001b[2K     \u001b[90m━━━━━━━━━━━━━━━━━━━━━━━━━━━━━━━━━━━━━━━━\u001b[0m \u001b[32m21.3/21.3 MB\u001b[0m \u001b[31m27.7 MB/s\u001b[0m eta \u001b[36m0:00:00\u001b[0m\n",
            "\u001b[?25hCollecting nvidia-cublas-cu12>=12.1.3.1 (from qiskit-aer-gpu)\n",
            "  Downloading nvidia_cublas_cu12-12.5.3.2-py3-none-manylinux2014_x86_64.whl (363.3 MB)\n",
            "\u001b[2K     \u001b[90m━━━━━━━━━━━━━━━━━━━━━━━━━━━━━━━━━━━━━━━━\u001b[0m \u001b[32m363.3/363.3 MB\u001b[0m \u001b[31m3.2 MB/s\u001b[0m eta \u001b[36m0:00:00\u001b[0m\n",
            "\u001b[?25hCollecting nvidia-cusolver-cu12>=11.4.5.107 (from qiskit-aer-gpu)\n",
            "  Downloading nvidia_cusolver_cu12-11.6.3.83-py3-none-manylinux2014_x86_64.whl (130.3 MB)\n",
            "\u001b[2K     \u001b[90m━━━━━━━━━━━━━━━━━━━━━━━━━━━━━━━━━━━━━━━━\u001b[0m \u001b[32m130.3/130.3 MB\u001b[0m \u001b[31m6.8 MB/s\u001b[0m eta \u001b[36m0:00:00\u001b[0m\n",
            "\u001b[?25hCollecting nvidia-cusparse-cu12>=12.1.0.106 (from qiskit-aer-gpu)\n",
            "  Downloading nvidia_cusparse_cu12-12.5.1.3-py3-none-manylinux2014_x86_64.whl (217.6 MB)\n",
            "\u001b[2K     \u001b[90m━━━━━━━━━━━━━━━━━━━━━━━━━━━━━━━━━━━━━━━━\u001b[0m \u001b[32m217.6/217.6 MB\u001b[0m \u001b[31m4.8 MB/s\u001b[0m eta \u001b[36m0:00:00\u001b[0m\n",
            "\u001b[?25hCollecting cuquantum-cu12>=23.3.0 (from qiskit-aer-gpu)\n",
            "  Downloading cuquantum_cu12-24.3.0.post1-py3-none-manylinux2014_x86_64.whl (7.5 kB)\n",
            "Collecting custatevec-cu12==1.6.0.post1 (from cuquantum-cu12>=23.3.0->qiskit-aer-gpu)\n",
            "  Downloading custatevec_cu12-1.6.0.post1-py3-none-manylinux2014_x86_64.whl (38.7 MB)\n",
            "\u001b[2K     \u001b[90m━━━━━━━━━━━━━━━━━━━━━━━━━━━━━━━━━━━━━━━━\u001b[0m \u001b[32m38.7/38.7 MB\u001b[0m \u001b[31m18.4 MB/s\u001b[0m eta \u001b[36m0:00:00\u001b[0m\n",
            "\u001b[?25hCollecting cutensornet-cu12==2.4.0.post1 (from cuquantum-cu12>=23.3.0->qiskit-aer-gpu)\n",
            "  Downloading cutensornet_cu12-2.4.0.post1-py3-none-manylinux2014_x86_64.whl (2.2 MB)\n",
            "\u001b[2K     \u001b[90m━━━━━━━━━━━━━━━━━━━━━━━━━━━━━━━━━━━━━━━━\u001b[0m \u001b[32m2.2/2.2 MB\u001b[0m \u001b[31m27.4 MB/s\u001b[0m eta \u001b[36m0:00:00\u001b[0m\n",
            "\u001b[?25hCollecting cutensor-cu12<3,>=2.0.1 (from cutensornet-cu12==2.4.0.post1->cuquantum-cu12>=23.3.0->qiskit-aer-gpu)\n",
            "  Downloading cutensor_cu12-2.0.2-py3-none-manylinux2014_x86_64.whl (156.9 MB)\n",
            "\u001b[2K     \u001b[90m━━━━━━━━━━━━━━━━━━━━━━━━━━━━━━━━━━━━━━━━\u001b[0m \u001b[32m156.9/156.9 MB\u001b[0m \u001b[31m4.6 MB/s\u001b[0m eta \u001b[36m0:00:00\u001b[0m\n",
            "\u001b[?25hRequirement already satisfied: rustworkx>=0.14.0 in /usr/local/lib/python3.10/dist-packages (from qiskit>=0.45.2->qiskit-aer-gpu) (0.15.1)\n",
            "Requirement already satisfied: sympy>=1.3 in /usr/local/lib/python3.10/dist-packages (from qiskit>=0.45.2->qiskit-aer-gpu) (1.13.0)\n",
            "Requirement already satisfied: dill>=0.3 in /usr/local/lib/python3.10/dist-packages (from qiskit>=0.45.2->qiskit-aer-gpu) (0.3.8)\n",
            "Requirement already satisfied: python-dateutil>=2.8.0 in /usr/local/lib/python3.10/dist-packages (from qiskit>=0.45.2->qiskit-aer-gpu) (2.8.2)\n",
            "Requirement already satisfied: stevedore>=3.0.0 in /usr/local/lib/python3.10/dist-packages (from qiskit>=0.45.2->qiskit-aer-gpu) (5.2.0)\n",
            "Requirement already satisfied: typing-extensions in /usr/local/lib/python3.10/dist-packages (from qiskit>=0.45.2->qiskit-aer-gpu) (4.12.2)\n",
            "Requirement already satisfied: symengine>=0.11 in /usr/local/lib/python3.10/dist-packages (from qiskit>=0.45.2->qiskit-aer-gpu) (0.11.0)\n",
            "Requirement already satisfied: six>=1.5 in /usr/local/lib/python3.10/dist-packages (from python-dateutil>=2.8.0->qiskit>=0.45.2->qiskit-aer-gpu) (1.16.0)\n",
            "Requirement already satisfied: pbr!=2.1.0,>=2.0.0 in /usr/local/lib/python3.10/dist-packages (from stevedore>=3.0.0->qiskit>=0.45.2->qiskit-aer-gpu) (6.0.0)\n",
            "Requirement already satisfied: mpmath<1.4,>=1.1.0 in /usr/local/lib/python3.10/dist-packages (from sympy>=1.3->qiskit>=0.45.2->qiskit-aer-gpu) (1.3.0)\n",
            "Installing collected packages: cutensor-cu12, custatevec-cu12, nvidia-nvjitlink-cu12, nvidia-cuda-runtime-cu12, nvidia-cublas-cu12, cutensornet-cu12, nvidia-cusparse-cu12, cuquantum-cu12, nvidia-cusolver-cu12, qiskit-aer-gpu\n",
            "\u001b[31mERROR: pip's dependency resolver does not currently take into account all the packages that are installed. This behaviour is the source of the following dependency conflicts.\n",
            "torch 2.3.1+cu121 requires nvidia-cuda-cupti-cu12==12.1.105; platform_system == \"Linux\" and platform_machine == \"x86_64\", which is not installed.\n",
            "torch 2.3.1+cu121 requires nvidia-cuda-nvrtc-cu12==12.1.105; platform_system == \"Linux\" and platform_machine == \"x86_64\", which is not installed.\n",
            "torch 2.3.1+cu121 requires nvidia-cudnn-cu12==8.9.2.26; platform_system == \"Linux\" and platform_machine == \"x86_64\", which is not installed.\n",
            "torch 2.3.1+cu121 requires nvidia-cufft-cu12==11.0.2.54; platform_system == \"Linux\" and platform_machine == \"x86_64\", which is not installed.\n",
            "torch 2.3.1+cu121 requires nvidia-curand-cu12==10.3.2.106; platform_system == \"Linux\" and platform_machine == \"x86_64\", which is not installed.\n",
            "torch 2.3.1+cu121 requires nvidia-nccl-cu12==2.20.5; platform_system == \"Linux\" and platform_machine == \"x86_64\", which is not installed.\n",
            "torch 2.3.1+cu121 requires nvidia-nvtx-cu12==12.1.105; platform_system == \"Linux\" and platform_machine == \"x86_64\", which is not installed.\n",
            "torch 2.3.1+cu121 requires nvidia-cublas-cu12==12.1.3.1; platform_system == \"Linux\" and platform_machine == \"x86_64\", but you have nvidia-cublas-cu12 12.5.3.2 which is incompatible.\n",
            "torch 2.3.1+cu121 requires nvidia-cuda-runtime-cu12==12.1.105; platform_system == \"Linux\" and platform_machine == \"x86_64\", but you have nvidia-cuda-runtime-cu12 12.5.82 which is incompatible.\n",
            "torch 2.3.1+cu121 requires nvidia-cusolver-cu12==11.4.5.107; platform_system == \"Linux\" and platform_machine == \"x86_64\", but you have nvidia-cusolver-cu12 11.6.3.83 which is incompatible.\n",
            "torch 2.3.1+cu121 requires nvidia-cusparse-cu12==12.1.0.106; platform_system == \"Linux\" and platform_machine == \"x86_64\", but you have nvidia-cusparse-cu12 12.5.1.3 which is incompatible.\u001b[0m\u001b[31m\n",
            "\u001b[0mSuccessfully installed cuquantum-cu12-24.3.0.post1 custatevec-cu12-1.6.0.post1 cutensor-cu12-2.0.2 cutensornet-cu12-2.4.0.post1 nvidia-cublas-cu12-12.5.3.2 nvidia-cuda-runtime-cu12-12.5.82 nvidia-cusolver-cu12-11.6.3.83 nvidia-cusparse-cu12-12.5.1.3 nvidia-nvjitlink-cu12-12.5.82 qiskit-aer-gpu-0.14.2\n"
          ]
        }
      ],
      "source": [
        "!pip install docplex && pip install qiskit && pip install qiskit-optimization && pip install qiskit-aer-gpu"
      ]
    },
    {
      "cell_type": "code",
      "source": [
        "!pip install ipython-autotime"
      ],
      "metadata": {
        "colab": {
          "base_uri": "https://localhost:8080/"
        },
        "id": "U2Yg79AMZE-z",
        "outputId": "d56ec848-75cf-48ec-9214-b7f1490b8ceb"
      },
      "execution_count": null,
      "outputs": [
        {
          "output_type": "stream",
          "name": "stdout",
          "text": [
            "Collecting ipython-autotime\n",
            "  Downloading ipython_autotime-0.3.2-py2.py3-none-any.whl (7.0 kB)\n",
            "Requirement already satisfied: ipython in /usr/local/lib/python3.10/dist-packages (from ipython-autotime) (7.34.0)\n",
            "Requirement already satisfied: setuptools>=18.5 in /usr/local/lib/python3.10/dist-packages (from ipython->ipython-autotime) (67.7.2)\n",
            "Collecting jedi>=0.16 (from ipython->ipython-autotime)\n",
            "  Downloading jedi-0.19.1-py2.py3-none-any.whl (1.6 MB)\n",
            "\u001b[2K     \u001b[90m━━━━━━━━━━━━━━━━━━━━━━━━━━━━━━━━━━━━━━━━\u001b[0m \u001b[32m1.6/1.6 MB\u001b[0m \u001b[31m7.3 MB/s\u001b[0m eta \u001b[36m0:00:00\u001b[0m\n",
            "\u001b[?25hRequirement already satisfied: decorator in /usr/local/lib/python3.10/dist-packages (from ipython->ipython-autotime) (4.4.2)\n",
            "Requirement already satisfied: pickleshare in /usr/local/lib/python3.10/dist-packages (from ipython->ipython-autotime) (0.7.5)\n",
            "Requirement already satisfied: traitlets>=4.2 in /usr/local/lib/python3.10/dist-packages (from ipython->ipython-autotime) (5.7.1)\n",
            "Requirement already satisfied: prompt-toolkit!=3.0.0,!=3.0.1,<3.1.0,>=2.0.0 in /usr/local/lib/python3.10/dist-packages (from ipython->ipython-autotime) (3.0.47)\n",
            "Requirement already satisfied: pygments in /usr/local/lib/python3.10/dist-packages (from ipython->ipython-autotime) (2.16.1)\n",
            "Requirement already satisfied: backcall in /usr/local/lib/python3.10/dist-packages (from ipython->ipython-autotime) (0.2.0)\n",
            "Requirement already satisfied: matplotlib-inline in /usr/local/lib/python3.10/dist-packages (from ipython->ipython-autotime) (0.1.7)\n",
            "Requirement already satisfied: pexpect>4.3 in /usr/local/lib/python3.10/dist-packages (from ipython->ipython-autotime) (4.9.0)\n",
            "Requirement already satisfied: parso<0.9.0,>=0.8.3 in /usr/local/lib/python3.10/dist-packages (from jedi>=0.16->ipython->ipython-autotime) (0.8.4)\n",
            "Requirement already satisfied: ptyprocess>=0.5 in /usr/local/lib/python3.10/dist-packages (from pexpect>4.3->ipython->ipython-autotime) (0.7.0)\n",
            "Requirement already satisfied: wcwidth in /usr/local/lib/python3.10/dist-packages (from prompt-toolkit!=3.0.0,!=3.0.1,<3.1.0,>=2.0.0->ipython->ipython-autotime) (0.2.13)\n",
            "Installing collected packages: jedi, ipython-autotime\n",
            "Successfully installed ipython-autotime-0.3.2 jedi-0.19.1\n"
          ]
        }
      ]
    },
    {
      "cell_type": "code",
      "source": [
        "!pip install pylatexenc"
      ],
      "metadata": {
        "colab": {
          "base_uri": "https://localhost:8080/"
        },
        "id": "k3UliSuCZFZy",
        "outputId": "e373f050-1ef3-4905-95b6-6768c87716ce"
      },
      "execution_count": null,
      "outputs": [
        {
          "output_type": "stream",
          "name": "stdout",
          "text": [
            "Collecting pylatexenc\n",
            "  Downloading pylatexenc-2.10.tar.gz (162 kB)\n",
            "\u001b[2K     \u001b[90m━━━━━━━━━━━━━━━━━━━━━━━━━━━━━━━━━━━━━━━━\u001b[0m \u001b[32m162.6/162.6 kB\u001b[0m \u001b[31m1.2 MB/s\u001b[0m eta \u001b[36m0:00:00\u001b[0m\n",
            "\u001b[?25h  Preparing metadata (setup.py) ... \u001b[?25l\u001b[?25hdone\n",
            "Building wheels for collected packages: pylatexenc\n",
            "  Building wheel for pylatexenc (setup.py) ... \u001b[?25l\u001b[?25hdone\n",
            "  Created wheel for pylatexenc: filename=pylatexenc-2.10-py3-none-any.whl size=136816 sha256=ea1c35040acbf8d9d5db0f49cf863a6f496c6cebdfa11da47632dd3d5e630639\n",
            "  Stored in directory: /root/.cache/pip/wheels/d3/31/8b/e09b0386afd80cfc556c00408c9aeea5c35c4d484a9c762fd5\n",
            "Successfully built pylatexenc\n",
            "Installing collected packages: pylatexenc\n",
            "Successfully installed pylatexenc-2.10\n"
          ]
        }
      ]
    },
    {
      "cell_type": "code",
      "source": [
        "%load_ext autotime"
      ],
      "metadata": {
        "colab": {
          "base_uri": "https://localhost:8080/"
        },
        "id": "4mIj4buYhdLH",
        "outputId": "468f4d18-97c2-4d39-f5ae-133837d31c9c"
      },
      "execution_count": null,
      "outputs": [
        {
          "output_type": "stream",
          "name": "stdout",
          "text": [
            "time: 511 µs (started: 2024-07-22 07:33:46 +00:00)\n"
          ]
        }
      ]
    },
    {
      "cell_type": "markdown",
      "source": [
        "## Number of rooms constraint"
      ],
      "metadata": {
        "id": "TM3y5e4eRb0Y"
      }
    },
    {
      "cell_type": "code",
      "source": [
        "from docplex.mp.model import Model\n",
        "from qiskit_optimization.problems import QuadraticProgram\n",
        "from qiskit_optimization.translators import from_docplex_mp\n",
        "\n",
        "\n",
        "n = 15 # grid size\n",
        "a = 1.0 # rule coefficient\n",
        "k = 7 # number of rooms\n",
        "\n",
        "# build model with docplex\n",
        "mdl = Model()\n",
        "x = [mdl.binary_var() for i in range(n)]\n",
        "objective = a*(k - mdl.sum(x[i] for i in range(n)))**2\n",
        "mdl.minimize(objective)\n",
        "\n",
        "mdl.prettyprint()"
      ],
      "metadata": {
        "colab": {
          "base_uri": "https://localhost:8080/"
        },
        "id": "_Q5htk4-ijCE",
        "outputId": "1da7dd83-a540-4e5e-c561-8c11e16acf6d"
      },
      "execution_count": null,
      "outputs": [
        {
          "output_type": "stream",
          "name": "stdout",
          "text": [
            "// This file has been generated by DOcplex\n",
            "// model name is: docplex_model1\n",
            "// single vars section\n",
            "dvar bool x1;\n",
            "dvar bool x2;\n",
            "dvar bool x3;\n",
            "dvar bool x4;\n",
            "dvar bool x5;\n",
            "dvar bool x6;\n",
            "dvar bool x7;\n",
            "dvar bool x8;\n",
            "dvar bool x9;\n",
            "dvar bool x10;\n",
            "dvar bool x11;\n",
            "dvar bool x12;\n",
            "dvar bool x13;\n",
            "dvar bool x14;\n",
            "dvar bool x15;\n",
            "\n",
            "minimize\n",
            " - 14 x1 - 14 x2 - 14 x3 - 14 x4 - 14 x5 - 14 x6 - 14 x7 - 14 x8 - 14 x9\n",
            " - 14 x10 - 14 x11 - 14 x12 - 14 x13 - 14 x14 - 14 x15 [ x1^2 + 2 x1*x2\n",
            " + 2 x1*x3 + 2 x1*x4 + 2 x1*x5 + 2 x1*x6 + 2 x1*x7 + 2 x1*x8 + 2 x1*x9\n",
            " + 2 x1*x10 + 2 x1*x11 + 2 x1*x12 + 2 x1*x13 + 2 x1*x14 + 2 x1*x15 + x2^2\n",
            " + 2 x2*x3 + 2 x2*x4 + 2 x2*x5 + 2 x2*x6 + 2 x2*x7 + 2 x2*x8 + 2 x2*x9\n",
            " + 2 x2*x10 + 2 x2*x11 + 2 x2*x12 + 2 x2*x13 + 2 x2*x14 + 2 x2*x15 + x3^2\n",
            " + 2 x3*x4 + 2 x3*x5 + 2 x3*x6 + 2 x3*x7 + 2 x3*x8 + 2 x3*x9 + 2 x3*x10\n",
            " + 2 x3*x11 + 2 x3*x12 + 2 x3*x13 + 2 x3*x14 + 2 x3*x15 + x4^2 + 2 x4*x5\n",
            " + 2 x4*x6 + 2 x4*x7 + 2 x4*x8 + 2 x4*x9 + 2 x4*x10 + 2 x4*x11 + 2 x4*x12\n",
            " + 2 x4*x13 + 2 x4*x14 + 2 x4*x15 + x5^2 + 2 x5*x6 + 2 x5*x7 + 2 x5*x8\n",
            " + 2 x5*x9 + 2 x5*x10 + 2 x5*x11 + 2 x5*x12 + 2 x5*x13 + 2 x5*x14 + 2 x5*x15\n",
            " + x6^2 + 2 x6*x7 + 2 x6*x8 + 2 x6*x9 + 2 x6*x10 + 2 x6*x11 + 2 x6*x12\n",
            " + 2 x6*x13 + 2 x6*x14 + 2 x6*x15 + x7^2 + 2 x7*x8 + 2 x7*x9 + 2 x7*x10\n",
            " + 2 x7*x11 + 2 x7*x12 + 2 x7*x13 + 2 x7*x14 + 2 x7*x15 + x8^2 + 2 x8*x9\n",
            " + 2 x8*x10 + 2 x8*x11 + 2 x8*x12 + 2 x8*x13 + 2 x8*x14 + 2 x8*x15 + x9^2\n",
            " + 2 x9*x10 + 2 x9*x11 + 2 x9*x12 + 2 x9*x13 + 2 x9*x14 + 2 x9*x15 + x10^2\n",
            " + 2 x10*x11 + 2 x10*x12 + 2 x10*x13 + 2 x10*x14 + 2 x10*x15 + x11^2\n",
            " + 2 x11*x12 + 2 x11*x13 + 2 x11*x14 + 2 x11*x15 + x12^2 + 2 x12*x13\n",
            " + 2 x12*x14 + 2 x12*x15 + x13^2 + 2 x13*x14 + 2 x13*x15 + x14^2 + 2 x14*x15\n",
            " + x15^2 ] + 49;\n",
            " \n",
            "subject to {\n",
            "\n",
            "}\n",
            "time: 2.75 s (started: 2024-07-22 07:33:46 +00:00)\n"
          ]
        }
      ]
    },
    {
      "cell_type": "code",
      "source": [
        "qubo = from_docplex_mp(mdl)\n",
        "qubo.prettyprint()"
      ],
      "metadata": {
        "colab": {
          "base_uri": "https://localhost:8080/",
          "height": 122
        },
        "id": "LE14WNd8k4C4",
        "outputId": "910ac39a-bf54-4ba4-b89e-bca8ecc26c49"
      },
      "execution_count": null,
      "outputs": [
        {
          "output_type": "execute_result",
          "data": {
            "text/plain": [
              "'Problem name: docplex_model1\\n\\nMinimize\\n  x0^2 + 2*x0*x1 + 2*x0*x10 + 2*x0*x11 + 2*x0*x12 + 2*x0*x13 + 2*x0*x14\\n  + 2*x0*x2 + 2*x0*x3 + 2*x0*x4 + 2*x0*x5 + 2*x0*x6 + 2*x0*x7 + 2*x0*x8\\n  + 2*x0*x9 + x1^2 + 2*x1*x10 + 2*x1*x11 + 2*x1*x12 + 2*x1*x13 + 2*x1*x14\\n  + 2*x1*x2 + 2*x1*x3 + 2*x1*x4 + 2*x1*x5 + 2*x1*x6 + 2*x1*x7 + 2*x1*x8\\n  + 2*x1*x9 + x10^2 + 2*x10*x11 + 2*x10*x12 + 2*x10*x13 + 2*x10*x14 + x11^2\\n  + 2*x11*x12 + 2*x11*x13 + 2*x11*x14 + x12^2 + 2*x12*x13 + 2*x12*x14 + x13^2\\n  + 2*x13*x14 + x14^2 + 2*x2*x10 + 2*x2*x11 + 2*x2*x12 + 2*x2*x13 + 2*x2*x14\\n  + x2^2 + 2*x2*x3 + 2*x2*x4 + 2*x2*x5 + 2*x2*x6 + 2*x2*x7 + 2*x2*x8 + 2*x2*x9\\n  + 2*x3*x10 + 2*x3*x11 + 2*x3*x12 + 2*x3*x13 + 2*x3*x14 + x3^2 + 2*x3*x4\\n  + 2*x3*x5 + 2*x3*x6 + 2*x3*x7 + 2*x3*x8 + 2*x3*x9 + 2*x4*x10 + 2*x4*x11\\n  + 2*x4*x12 + 2*x4*x13 + 2*x4*x14 + x4^2 + 2*x4*x5 + 2*x4*x6 + 2*x4*x7\\n  + 2*x4*x8 + 2*x4*x9 + 2*x5*x10 + 2*x5*x11 + 2*x5*x12 + 2*x5*x13 + 2*x5*x14\\n  + x5^2 + 2*x5*x6 + 2*x5*x7 + 2*x5*x8 + 2*x5*x9 + 2*x6*x10 + 2*x6*x11\\n  + 2*x6*x12 + 2*x6*x13 + 2*x6*x14 + x6^2 + 2*x6*x7 + 2*x6*x8 + 2*x6*x9\\n  + 2*x7*x10 + 2*x7*x11 + 2*x7*x12 + 2*x7*x13 + 2*x7*x14 + x7^2 + 2*x7*x8\\n  + 2*x7*x9 + 2*x8*x10 + 2*x8*x11 + 2*x8*x12 + 2*x8*x13 + 2*x8*x14 + x8^2\\n  + 2*x8*x9 + 2*x9*x10 + 2*x9*x11 + 2*x9*x12 + 2*x9*x13 + 2*x9*x14 + x9^2\\n  - 14*x0 - 14*x1 - 14*x10 - 14*x11 - 14*x12 - 14*x13 - 14*x14 - 14*x2 - 14*x3\\n  - 14*x4 - 14*x5 - 14*x6 - 14*x7 - 14*x8 - 14*x9 + 49\\n\\nSubject to\\n  No constraints\\n\\n  Binary variables (15)\\n    x0 x1 x2 x3 x4 x5 x6 x7 x8 x9 x10 x11 x12 x13 x14\\n'"
            ],
            "application/vnd.google.colaboratory.intrinsic+json": {
              "type": "string"
            }
          },
          "metadata": {},
          "execution_count": 6
        },
        {
          "output_type": "stream",
          "name": "stdout",
          "text": [
            "time: 53 ms (started: 2024-07-22 07:33:48 +00:00)\n"
          ]
        }
      ]
    },
    {
      "cell_type": "code",
      "source": [
        "qp2ising = qubo.to_ising()\n",
        "\n",
        "# Print Ising Hamiltonian\n",
        "print('Ising Hamiltonian:')\n",
        "print(qp2ising)"
      ],
      "metadata": {
        "colab": {
          "base_uri": "https://localhost:8080/"
        },
        "id": "F0XPCIDiX4jY",
        "outputId": "f1eadf26-96f0-4e21-9d52-bf27d0f7fd7d"
      },
      "execution_count": null,
      "outputs": [
        {
          "output_type": "stream",
          "name": "stdout",
          "text": [
            "Ising Hamiltonian:\n",
            "(SparsePauliOp(['IIIIIIIIIIIIIIZ', 'IIIIIIIIIIIIIZI', 'IIIIIIIIIIIIZII', 'IIIIIIIIIIIZIII', 'IIIIIIIIIIZIIII', 'IIIIIIIIIZIIIII', 'IIIIIIIIZIIIIII', 'IIIIIIIZIIIIIII', 'IIIIIIZIIIIIIII', 'IIIIIZIIIIIIIII', 'IIIIZIIIIIIIIII', 'IIIZIIIIIIIIIII', 'IIZIIIIIIIIIIII', 'IZIIIIIIIIIIIII', 'ZIIIIIIIIIIIIII', 'IIIIIIIIIIIIIZZ', 'IIIIIIIIIIIIZIZ', 'IIIIIIIIIIIZIIZ', 'IIIIIIIIIIZIIIZ', 'IIIIIIIIIZIIIIZ', 'IIIIIIIIZIIIIIZ', 'IIIIIIIZIIIIIIZ', 'IIIIIIZIIIIIIIZ', 'IIIIIZIIIIIIIIZ', 'IIIIZIIIIIIIIIZ', 'IIIZIIIIIIIIIIZ', 'IIZIIIIIIIIIIIZ', 'IZIIIIIIIIIIIIZ', 'ZIIIIIIIIIIIIIZ', 'IIIIIIIIIIIIZZI', 'IIIIIIIIIIIZIZI', 'IIIIIIIIIIZIIZI', 'IIIIIIIIIZIIIZI', 'IIIIIIIIZIIIIZI', 'IIIIIIIZIIIIIZI', 'IIIIIIZIIIIIIZI', 'IIIIIZIIIIIIIZI', 'IIIIZIIIIIIIIZI', 'IIIZIIIIIIIIIZI', 'IIZIIIIIIIIIIZI', 'IZIIIIIIIIIIIZI', 'ZIIIIIIIIIIIIZI', 'IIIIIIIIIIIZZII', 'IIIIIIIIIIZIZII', 'IIIIIIIIIZIIZII', 'IIIIIIIIZIIIZII', 'IIIIIIIZIIIIZII', 'IIIIIIZIIIIIZII', 'IIIIIZIIIIIIZII', 'IIIIZIIIIIIIZII', 'IIIZIIIIIIIIZII', 'IIZIIIIIIIIIZII', 'IZIIIIIIIIIIZII', 'ZIIIIIIIIIIIZII', 'IIIIIIIIIIZZIII', 'IIIIIIIIIZIZIII', 'IIIIIIIIZIIZIII', 'IIIIIIIZIIIZIII', 'IIIIIIZIIIIZIII', 'IIIIIZIIIIIZIII', 'IIIIZIIIIIIZIII', 'IIIZIIIIIIIZIII', 'IIZIIIIIIIIZIII', 'IZIIIIIIIIIZIII', 'ZIIIIIIIIIIZIII', 'IIIIIIIIIZZIIII', 'IIIIIIIIZIZIIII', 'IIIIIIIZIIZIIII', 'IIIIIIZIIIZIIII', 'IIIIIZIIIIZIIII', 'IIIIZIIIIIZIIII', 'IIIZIIIIIIZIIII', 'IIZIIIIIIIZIIII', 'IZIIIIIIIIZIIII', 'ZIIIIIIIIIZIIII', 'IIIIIIIIZZIIIII', 'IIIIIIIZIZIIIII', 'IIIIIIZIIZIIIII', 'IIIIIZIIIZIIIII', 'IIIIZIIIIZIIIII', 'IIIZIIIIIZIIIII', 'IIZIIIIIIZIIIII', 'IZIIIIIIIZIIIII', 'ZIIIIIIIIZIIIII', 'IIIIIIIZZIIIIII', 'IIIIIIZIZIIIIII', 'IIIIIZIIZIIIIII', 'IIIIZIIIZIIIIII', 'IIIZIIIIZIIIIII', 'IIZIIIIIZIIIIII', 'IZIIIIIIZIIIIII', 'ZIIIIIIIZIIIIII', 'IIIIIIZZIIIIIII', 'IIIIIZIZIIIIIII', 'IIIIZIIZIIIIIII', 'IIIZIIIZIIIIIII', 'IIZIIIIZIIIIIII', 'IZIIIIIZIIIIIII', 'ZIIIIIIZIIIIIII', 'IIIIIZZIIIIIIII', 'IIIIZIZIIIIIIII', 'IIIZIIZIIIIIIII', 'IIZIIIZIIIIIIII', 'IZIIIIZIIIIIIII', 'ZIIIIIZIIIIIIII', 'IIIIZZIIIIIIIII', 'IIIZIZIIIIIIIII', 'IIZIIZIIIIIIIII', 'IZIIIZIIIIIIIII', 'ZIIIIZIIIIIIIII', 'IIIZZIIIIIIIIII', 'IIZIZIIIIIIIIII', 'IZIIZIIIIIIIIII', 'ZIIIZIIIIIIIIII', 'IIZZIIIIIIIIIII', 'IZIZIIIIIIIIIII', 'ZIIZIIIIIIIIIII', 'IZZIIIIIIIIIIII', 'ZIZIIIIIIIIIIII', 'ZZIIIIIIIIIIIII'],\n",
            "              coeffs=[-0.5+0.j, -0.5+0.j, -0.5+0.j, -0.5+0.j, -0.5+0.j, -0.5+0.j, -0.5+0.j,\n",
            " -0.5+0.j, -0.5+0.j, -0.5+0.j, -0.5+0.j, -0.5+0.j, -0.5+0.j, -0.5+0.j,\n",
            " -0.5+0.j,  0.5+0.j,  0.5+0.j,  0.5+0.j,  0.5+0.j,  0.5+0.j,  0.5+0.j,\n",
            "  0.5+0.j,  0.5+0.j,  0.5+0.j,  0.5+0.j,  0.5+0.j,  0.5+0.j,  0.5+0.j,\n",
            "  0.5+0.j,  0.5+0.j,  0.5+0.j,  0.5+0.j,  0.5+0.j,  0.5+0.j,  0.5+0.j,\n",
            "  0.5+0.j,  0.5+0.j,  0.5+0.j,  0.5+0.j,  0.5+0.j,  0.5+0.j,  0.5+0.j,\n",
            "  0.5+0.j,  0.5+0.j,  0.5+0.j,  0.5+0.j,  0.5+0.j,  0.5+0.j,  0.5+0.j,\n",
            "  0.5+0.j,  0.5+0.j,  0.5+0.j,  0.5+0.j,  0.5+0.j,  0.5+0.j,  0.5+0.j,\n",
            "  0.5+0.j,  0.5+0.j,  0.5+0.j,  0.5+0.j,  0.5+0.j,  0.5+0.j,  0.5+0.j,\n",
            "  0.5+0.j,  0.5+0.j,  0.5+0.j,  0.5+0.j,  0.5+0.j,  0.5+0.j,  0.5+0.j,\n",
            "  0.5+0.j,  0.5+0.j,  0.5+0.j,  0.5+0.j,  0.5+0.j,  0.5+0.j,  0.5+0.j,\n",
            "  0.5+0.j,  0.5+0.j,  0.5+0.j,  0.5+0.j,  0.5+0.j,  0.5+0.j,  0.5+0.j,\n",
            "  0.5+0.j,  0.5+0.j,  0.5+0.j,  0.5+0.j,  0.5+0.j,  0.5+0.j,  0.5+0.j,\n",
            "  0.5+0.j,  0.5+0.j,  0.5+0.j,  0.5+0.j,  0.5+0.j,  0.5+0.j,  0.5+0.j,\n",
            "  0.5+0.j,  0.5+0.j,  0.5+0.j,  0.5+0.j,  0.5+0.j,  0.5+0.j,  0.5+0.j,\n",
            "  0.5+0.j,  0.5+0.j,  0.5+0.j,  0.5+0.j,  0.5+0.j,  0.5+0.j,  0.5+0.j,\n",
            "  0.5+0.j,  0.5+0.j,  0.5+0.j,  0.5+0.j,  0.5+0.j,  0.5+0.j,  0.5+0.j,\n",
            "  0.5+0.j]), 4.0)\n",
            "time: 87.8 ms (started: 2024-07-22 07:33:49 +00:00)\n"
          ]
        }
      ]
    },
    {
      "cell_type": "code",
      "source": [
        "from qiskit_algorithms.utils import algorithm_globals\n",
        "from qiskit_algorithms import QAOA, NumPyMinimumEigensolver\n",
        "from qiskit_algorithms.optimizers import COBYLA\n",
        "from qiskit.primitives import Sampler\n",
        "from qiskit_optimization.algorithms import (\n",
        "    MinimumEigenOptimizer,\n",
        "    RecursiveMinimumEigenOptimizer,\n",
        "    SolutionSample,\n",
        "    OptimizationResultStatus,\n",
        ")\n",
        "from qiskit_optimization import QuadraticProgram\n",
        "from qiskit.visualization import plot_histogram\n",
        "from typing import List, Tuple\n",
        "import numpy as np\n",
        "\n",
        "qaoa_mes = QAOA(sampler=Sampler(), optimizer=COBYLA(), initial_point=[0.0, 0.0])\n",
        "qaoa = MinimumEigenOptimizer(qaoa_mes)"
      ],
      "metadata": {
        "id": "83UikAubissi",
        "colab": {
          "base_uri": "https://localhost:8080/"
        },
        "outputId": "66cbe38b-3b78-4c94-c1dd-bb966cbda314"
      },
      "execution_count": null,
      "outputs": [
        {
          "output_type": "stream",
          "name": "stdout",
          "text": [
            "time: 1.44 s (started: 2024-07-22 07:33:49 +00:00)\n"
          ]
        }
      ]
    },
    {
      "cell_type": "code",
      "source": [
        "qaoa_result = qaoa.solve(qubo)\n",
        "print(\"---- QAOA RESULT ----\")\n",
        "print(qaoa_result.prettyprint())"
      ],
      "metadata": {
        "id": "D04XShygijoL",
        "colab": {
          "base_uri": "https://localhost:8080/"
        },
        "outputId": "e14e46b2-4f63-4acb-8eee-b86404f1a0e8"
      },
      "execution_count": null,
      "outputs": [
        {
          "output_type": "stream",
          "name": "stdout",
          "text": [
            "---- QAOA RESULT ----\n",
            "objective function value: 0.0\n",
            "variable values: x0=1.0, x1=1.0, x2=1.0, x3=1.0, x4=1.0, x5=1.0, x6=1.0, x7=0.0, x8=0.0, x9=0.0, x10=0.0, x11=0.0, x12=0.0, x13=0.0, x14=0.0\n",
            "status: SUCCESS\n",
            "time: 2min 7s (started: 2024-07-22 07:33:50 +00:00)\n"
          ]
        }
      ]
    },
    {
      "cell_type": "code",
      "source": [
        "from matplotlib import pyplot as plt\n",
        "import random\n",
        "\n",
        "solution_samples_filtered = list(filter(lambda sample: (sample.fval == 0), qaoa_result.samples))\n",
        "\n",
        "dg = random.choice(solution_samples_filtered).x.reshape(3,5)\n",
        "\n",
        "plt.figure(figsize=(5,3))\n",
        "plt.pcolor(dg[::-1],edgecolors='k', linewidths=3)\n",
        "plt.show()"
      ],
      "metadata": {
        "colab": {
          "base_uri": "https://localhost:8080/"
        },
        "id": "-3drR0vJeCY4",
        "outputId": "3eb13dbb-1aa8-4841-b559-50f78bcc09e2"
      },
      "execution_count": null,
      "outputs": [
        {
          "output_type": "display_data",
          "data": {
            "text/plain": [
              "<Figure size 500x300 with 1 Axes>"
            ],
            "image/png": "[encoded data removed]"
          },
          "metadata": {}
        },
        {
          "output_type": "stream",
          "name": "stdout",
          "text": [
            "time: 224 ms (started: 2024-07-22 07:35:57 +00:00)\n"
          ]
        }
      ]
    },
    {
      "cell_type": "markdown",
      "source": [
        "## Room placement test"
      ],
      "metadata": {
        "id": "mXVEphU5SeNG"
      }
    },
    {
      "cell_type": "code",
      "source": [
        "import numpy as np\n",
        "\n",
        "def calculate_hamiltonian_value(solution):\n",
        "    # Define the room requirements\n",
        "    single_cell_rooms = 12\n",
        "    two_cell_rooms = 3\n",
        "    three_four_cell_rooms = 3\n",
        "\n",
        "    # Calculate the sums of the solution for the different groups\n",
        "    single_cell_sum = np.sum(solution[:64])\n",
        "    two_cell_sum = np.sum(solution[64:120])\n",
        "    three_four_cell_sum = np.sum(solution[120:169])\n",
        "\n",
        "    # Define the Hamiltonian\n",
        "    H1 = (single_cell_rooms - single_cell_sum)**2 \\\n",
        "         + (two_cell_rooms - two_cell_sum)**2 \\\n",
        "         + (three_four_cell_rooms - three_four_cell_sum)**2\n",
        "\n",
        "    return H1\n",
        "\n",
        "# Example solution (binary array of length 169)\n",
        "example_solution = np.array([\n",
        "    # 64 values for single-cell rooms\n",
        "    0,0,0,0,0,0,0,0,0,0,0,0,1,0,0,0,0,0,1,0,1,0,0,0,1,0,1,1,1,1,0,0,0,0,0,0,1,0,0,0,1,1,0,0,1,0,0,0,0,0,0,0,0,0,0,0,0,0,0,0,0,0,0,\n",
        "    # 56 values for two-cell rooms\n",
        "    0,0,0,0,0,0,0,0,0,0,0,0,0,0,0,0,1,0,0,0,0,0,0,0,0,0,0,0,0,0,0,0,0,0,0,0,0,0,0,0,0,0,0,0,0,0,0,0,1,0,0,0,1,0,0,0,\n",
        "    # 49 values for three-four-cell rooms\n",
        "    0,0,0,1,0,0,0,0,0,0,0,0,0,1,0,0,0,0,0,0,0,0,0,0,0,0,0,0,0,0,0,0,0,0,0,0,0,0,0,0,0,0,1,0,0,0,0,\n",
        "])\n",
        "\n",
        "# Calculate the Hamiltonian value for the example solution\n",
        "hamiltonian_value = calculate_hamiltonian_value(example_solution)\n",
        "print(f\"Hamiltonian value: {hamiltonian_value}\")\n"
      ],
      "metadata": {
        "colab": {
          "base_uri": "https://localhost:8080/"
        },
        "id": "YOM6_J52Sg-D",
        "outputId": "256052ed-fe4a-4f35-c8bb-746dbd66f677"
      },
      "execution_count": null,
      "outputs": [
        {
          "output_type": "stream",
          "name": "stdout",
          "text": [
            "Hamiltonian value: 0\n"
          ]
        }
      ]
    },
    {
      "cell_type": "code",
      "source": [],
      "metadata": {
        "id": "H1j-SeNNShNW"
      },
      "execution_count": null,
      "outputs": []
    }
  ]
}