{
  "nbformat": 4,
  "nbformat_minor": 0,
  "metadata": {
    "colab": {
      "provenance": [],
      "authorship_tag": "ABX9TyO7FsPYEqiOZ7VaWzyXAvqE",
      "include_colab_link": true
    },
    "kernelspec": {
      "name": "python3",
      "display_name": "Python 3"
    },
    "language_info": {
      "name": "python"
    }
  },
  "cells": [
    {
      "cell_type": "markdown",
      "metadata": {
        "id": "view-in-github",
        "colab_type": "text"
      },
      "source": [
        "<a href=\"https://colab.research.google.com/github/EmmanueleVilla/quantum_computing/blob/main/Colab_04_Python_e_Google_Colab.ipynb\" target=\"_parent\"><img src=\"https://colab.research.google.com/assets/colab-badge.svg\" alt=\"Open In Colab\"/></a>"
      ]
    },
    {
      "cell_type": "markdown",
      "source": [
        "## Stampare i valori\n"
      ],
      "metadata": {
        "id": "M080BvPQQXdu"
      }
    },
    {
      "cell_type": "code",
      "source": [
        "# Stampare con print\n",
        "print(\"Hello world\")"
      ],
      "metadata": {
        "id": "qAaifaMmQcbG",
        "colab": {
          "base_uri": "https://localhost:8080/"
        },
        "outputId": "d3652155-27b6-40e1-ede1-5c2f312f6a09"
      },
      "execution_count": null,
      "outputs": [
        {
          "output_type": "stream",
          "name": "stdout",
          "text": [
            "Hello world\n"
          ]
        }
      ]
    },
    {
      "cell_type": "code",
      "source": [
        "# Stampare senza print\n",
        "a = \"Hello world\"\n",
        "a"
      ],
      "metadata": {
        "id": "78xqCf8oQjNI",
        "colab": {
          "base_uri": "https://localhost:8080/",
          "height": 35
        },
        "outputId": "e42a4825-9edc-44dd-959e-2e1fc3800e5e"
      },
      "execution_count": null,
      "outputs": [
        {
          "output_type": "execute_result",
          "data": {
            "text/plain": [
              "'Hello world'"
            ],
            "application/vnd.google.colaboratory.intrinsic+json": {
              "type": "string"
            }
          },
          "metadata": {},
          "execution_count": 5
        }
      ]
    },
    {
      "cell_type": "markdown",
      "source": [
        "## Condizioni e indentazione"
      ],
      "metadata": {
        "id": "_05ZUQk2Qt1j"
      }
    },
    {
      "cell_type": "code",
      "source": [
        "# Python usa l'indentazione invece delle graffe\n",
        "if a == \"Hello world\":\n",
        "  print(\"Correct\")\n",
        "  print(\"Correct 2\")\n",
        "print(\"Outside\")"
      ],
      "metadata": {
        "id": "gwmI87a9QvWn",
        "colab": {
          "base_uri": "https://localhost:8080/"
        },
        "outputId": "4812c961-2f29-4fae-8da7-a5b06fff890a"
      },
      "execution_count": null,
      "outputs": [
        {
          "output_type": "stream",
          "name": "stdout",
          "text": [
            "Correct\n",
            "Correct 2\n",
            "Outside\n"
          ]
        }
      ]
    },
    {
      "cell_type": "markdown",
      "source": [
        "## Tipi di variabili"
      ],
      "metadata": {
        "id": "M_zZV4rLRasE"
      }
    },
    {
      "cell_type": "code",
      "source": [
        "# Numeri interi\n",
        "number = 2\n",
        "print(\"number: \" + str(number))\n",
        "\n",
        "# Numeri floating point con dichiarazione e con costruttore\n",
        "floating = 1.0\n",
        "print(\"floating: \" + str(floating))\n",
        "\n",
        "floatingBis = float(4)\n",
        "print(\"floatingBis: \" + str(floatingBis))\n",
        "\n",
        "# Boolean\n",
        "b1 = False\n",
        "b1String = str(b1)\n",
        "print(\"b1: \" + b1String)\n",
        "\n",
        "b2 = (a == \"Hello world\")\n",
        "print(\"b2: \" + str(b2))\n",
        "\n",
        "# Stringhe\n",
        "h = \"Hello\"\n",
        "w = \"World!\"\n",
        "print(h)\n",
        "print(w)\n",
        "\n",
        "# Unire stringhe\n",
        "h + \" \" + w"
      ],
      "metadata": {
        "id": "69hEt7feRcj1",
        "colab": {
          "base_uri": "https://localhost:8080/",
          "height": 159
        },
        "outputId": "d39b0de4-3573-44ac-8af2-c095142f6e19"
      },
      "execution_count": null,
      "outputs": [
        {
          "output_type": "stream",
          "name": "stdout",
          "text": [
            "number: 2\n",
            "floating: 1.0\n",
            "floatingBis: 4.0\n",
            "b1: False\n",
            "b2: True\n",
            "Hello\n",
            "World!\n"
          ]
        },
        {
          "output_type": "execute_result",
          "data": {
            "text/plain": [
              "'Hello World!'"
            ],
            "application/vnd.google.colaboratory.intrinsic+json": {
              "type": "string"
            }
          },
          "metadata": {},
          "execution_count": 25
        }
      ]
    },
    {
      "cell_type": "markdown",
      "source": [
        "## Liste"
      ],
      "metadata": {
        "id": "iECiNAucSlAB"
      }
    },
    {
      "cell_type": "code",
      "source": [
        "# Creazione lista vuota\n",
        "lista = []\n",
        "print(lista)\n",
        "\n",
        "# Aggiunta di elementi\n",
        "lista.append(1)\n",
        "lista.append(2)\n",
        "lista.append(3)\n",
        "lista.append(4)\n",
        "lista.append(5)\n",
        "print(lista)\n",
        "\n",
        "# Ciclare sulla lista\n",
        "for numero in lista:\n",
        "  print(numero)\n",
        "\n",
        "# Unire due liste\n",
        "lista2 = [6,7,8,9,10]\n",
        "print(lista + lista2)\n",
        "\n",
        "# Controllare se un elemento è in una lista\n",
        "print(5 in lista)\n",
        "print(123 in lista)"
      ],
      "metadata": {
        "id": "WGg44EDzSl3i",
        "colab": {
          "base_uri": "https://localhost:8080/"
        },
        "outputId": "b22815a4-f721-46f9-923a-1367e3fbdd13"
      },
      "execution_count": null,
      "outputs": [
        {
          "output_type": "stream",
          "name": "stdout",
          "text": [
            "[]\n",
            "[1, 2, 3, 4, 5]\n",
            "1\n",
            "2\n",
            "3\n",
            "4\n",
            "5\n",
            "[1, 2, 3, 4, 5, 6, 7, 8, 9, 10]\n",
            "True\n",
            "False\n"
          ]
        }
      ]
    },
    {
      "cell_type": "markdown",
      "source": [
        "## Dizionari"
      ],
      "metadata": {
        "id": "zFzvPTVZUCsk"
      }
    },
    {
      "cell_type": "code",
      "source": [
        "# Inizializzare un dizionario vuoto\n",
        "dizionario = {}\n",
        "\n",
        "# Aggiunta di elementi\n",
        "dizionario[\"ciao\"] = \"casa\"\n",
        "\n",
        "print(dizionario)\n",
        "\n",
        "# Inizializzare un dizionario con elementi\n",
        "dizionario = {\n",
        "    \"chiave1\": \"valore1\",\n",
        "    \"chiave2\": \"valore2\"\n",
        "}\n",
        "\n",
        "print(dizionario)\n",
        "\n",
        "# Iterare un dizionario\n",
        "\n",
        "for chiave, valore in dizionario.items():\n",
        "  print(\"Chiave: \" + chiave + \", valore: \" + valore)\n",
        "\n",
        "for chiave in dizionario:\n",
        "  print(\"Chiave: \" + chiave + \", valore: \" + dizionario[chiave])"
      ],
      "metadata": {
        "id": "QXMC9dxyUEPM",
        "colab": {
          "base_uri": "https://localhost:8080/"
        },
        "outputId": "f5592385-dc53-4789-8841-78ecbf9f1efb"
      },
      "execution_count": null,
      "outputs": [
        {
          "output_type": "stream",
          "name": "stdout",
          "text": [
            "{'ciao': 'casa'}\n",
            "{'chiave1': 'valore1', 'chiave2': 'valore2'}\n",
            "Chiave: chiave1, valore: valore1\n",
            "Chiave: chiave2, valore: valore2\n",
            "Chiave: chiave1, valore: valore1\n",
            "Chiave: chiave2, valore: valore2\n"
          ]
        }
      ]
    },
    {
      "cell_type": "markdown",
      "source": [
        "## Funzioni"
      ],
      "metadata": {
        "id": "Uq6jHTjhTmBA"
      }
    },
    {
      "cell_type": "code",
      "source": [
        "# Definire una funzione\n",
        "def mul10(x):\n",
        "  return x * 10\n",
        "\n",
        "\n",
        "# Eseguire una funzione\n",
        "print(mul10(123))\n",
        "print(mul10(12))\n",
        "print(mul10(3))"
      ],
      "metadata": {
        "id": "4g52S1ugTm34",
        "colab": {
          "base_uri": "https://localhost:8080/"
        },
        "outputId": "0dda057f-eb9a-460e-d5a1-b1327fb1b62a"
      },
      "execution_count": null,
      "outputs": [
        {
          "output_type": "stream",
          "name": "stdout",
          "text": [
            "1230\n",
            "120\n",
            "30\n"
          ]
        }
      ]
    },
    {
      "cell_type": "markdown",
      "source": [
        "## Classi e oggetti"
      ],
      "metadata": {
        "id": "Il_CIseCTupg"
      }
    },
    {
      "cell_type": "code",
      "source": [
        "# Definire una classe\n",
        "class Square:\n",
        "\n",
        "  # Variabili di classe\n",
        "  sideSize: number\n",
        "\n",
        "  # Funzioni di classe\n",
        "  def get_perimeter(self):\n",
        "    return self.sideSize * 4\n",
        "\n",
        "# Creare un'istanza\n",
        "quadrato = Square()\n",
        "quadrato.sideSize = 10\n",
        "\n",
        "# Eseguire la funzione sull'istanza\n",
        "print(quadrato.get_perimeter())\n",
        "\n",
        "# Istanze differenti\n",
        "quadratoDue = Square()\n",
        "quadratoDue.sideSize = 9\n",
        "\n",
        "print(quadrato.get_perimeter())\n",
        "print(quadratoDue.get_perimeter())"
      ],
      "metadata": {
        "id": "nkZJqO8eTvxZ",
        "colab": {
          "base_uri": "https://localhost:8080/"
        },
        "outputId": "1cb63df1-dd3a-40a7-c7a5-5c16a47f08ad"
      },
      "execution_count": null,
      "outputs": [
        {
          "output_type": "stream",
          "name": "stdout",
          "text": [
            "40\n",
            "40\n",
            "36\n"
          ]
        }
      ]
    },
    {
      "cell_type": "markdown",
      "source": [
        "## List comprehensions"
      ],
      "metadata": {
        "id": "OWxwk4JbUYNK"
      }
    },
    {
      "cell_type": "code",
      "source": [
        "# Creare una lista di numeri\n",
        "numbers = []\n",
        "for num in range(100):\n",
        "  numbers.append(num)\n",
        "\n",
        "print(numbers)\n",
        "\n",
        "# Filtrare i numeri pari con un for\n",
        "pari = []\n",
        "for num in numbers:\n",
        "  if num%2 == 0:\n",
        "    pari.append(num)\n",
        "\n",
        "print(pari)\n",
        "\n",
        "# Filtrare i numeri pari con una comprehension\n",
        "print([x for x in numbers if x%2==0])"
      ],
      "metadata": {
        "id": "SvBaQHE0UZd-",
        "colab": {
          "base_uri": "https://localhost:8080/"
        },
        "outputId": "43a16ce0-abb6-4430-f390-4f65ec3f2fc3"
      },
      "execution_count": null,
      "outputs": [
        {
          "output_type": "stream",
          "name": "stdout",
          "text": [
            "[0, 1, 2, 3, 4, 5, 6, 7, 8, 9, 10, 11, 12, 13, 14, 15, 16, 17, 18, 19, 20, 21, 22, 23, 24, 25, 26, 27, 28, 29, 30, 31, 32, 33, 34, 35, 36, 37, 38, 39, 40, 41, 42, 43, 44, 45, 46, 47, 48, 49, 50, 51, 52, 53, 54, 55, 56, 57, 58, 59, 60, 61, 62, 63, 64, 65, 66, 67, 68, 69, 70, 71, 72, 73, 74, 75, 76, 77, 78, 79, 80, 81, 82, 83, 84, 85, 86, 87, 88, 89, 90, 91, 92, 93, 94, 95, 96, 97, 98, 99]\n",
            "[0, 2, 4, 6, 8, 10, 12, 14, 16, 18, 20, 22, 24, 26, 28, 30, 32, 34, 36, 38, 40, 42, 44, 46, 48, 50, 52, 54, 56, 58, 60, 62, 64, 66, 68, 70, 72, 74, 76, 78, 80, 82, 84, 86, 88, 90, 92, 94, 96, 98]\n",
            "[0, 2, 4, 6, 8, 10, 12, 14, 16, 18, 20, 22, 24, 26, 28, 30, 32, 34, 36, 38, 40, 42, 44, 46, 48, 50, 52, 54, 56, 58, 60, 62, 64, 66, 68, 70, 72, 74, 76, 78, 80, 82, 84, 86, 88, 90, 92, 94, 96, 98]\n"
          ]
        }
      ]
    },
    {
      "cell_type": "markdown",
      "source": [
        "## Numpy"
      ],
      "metadata": {
        "id": "sbR_a5tcUoEo"
      }
    },
    {
      "cell_type": "code",
      "source": [
        "# Importazione\n",
        "import numpy as np\n",
        "\n",
        "# Stampa numero di versione\n",
        "print(np.__version__)\n",
        "\n",
        "# Creo un array di numeri..\n",
        "lista = [1,2,3,4,5,6,7,8,9]\n",
        "\n",
        "# E lo trasformo in un array numpy\n",
        "nLista = np.array(lista)\n",
        "\n",
        "print(nLista)\n",
        "\n",
        "# Operazioni element-wise\n",
        "print(nLista * 2)\n",
        "\n",
        "# Subset\n",
        "print(nLista[:3])\n",
        "print(nLista[3:])\n",
        "print(nLista[-1])"
      ],
      "metadata": {
        "id": "VOYnAJT8UqCH",
        "colab": {
          "base_uri": "https://localhost:8080/"
        },
        "outputId": "a30799b9-a5eb-4c7b-c01a-479bd5bb96a1"
      },
      "execution_count": null,
      "outputs": [
        {
          "output_type": "stream",
          "name": "stdout",
          "text": [
            "1.22.4\n",
            "[1 2 3 4 5 6 7 8 9]\n",
            "[ 2  4  6  8 10 12 14 16 18]\n",
            "[1 2 3]\n",
            "[4 5 6 7 8 9]\n",
            "9\n"
          ]
        }
      ]
    },
    {
      "cell_type": "markdown",
      "source": [
        "## MatPlotLib"
      ],
      "metadata": {
        "id": "v4JOgq-JVUQ6"
      }
    },
    {
      "cell_type": "code",
      "source": [
        "# Importazione\n",
        "import matplotlib.pyplot as plt"
      ],
      "metadata": {
        "id": "YJ67H5INgD0R"
      },
      "execution_count": null,
      "outputs": []
    },
    {
      "cell_type": "code",
      "source": [
        "## Disegno un grafico a linea\n",
        "\n",
        "# Ricavo figura e assi creando un subplot\n",
        "fig, ax = plt.subplots()\n",
        "\n",
        "# Creo il plot passando array di valori x e y\n",
        "ax.plot([1,2,3,4], [2,4,3,8])"
      ],
      "metadata": {
        "id": "WOZlRJ9ol3ib",
        "colab": {
          "base_uri": "https://localhost:8080/",
          "height": 448
        },
        "outputId": "7d81afb0-c885-48bf-8cf7-8fcb68c0b6aa"
      },
      "execution_count": null,
      "outputs": [
        {
          "output_type": "execute_result",
          "data": {
            "text/plain": [
              "[<matplotlib.lines.Line2D at 0x7f8c039b51e0>]"
            ]
          },
          "metadata": {},
          "execution_count": 78
        },
        {
          "output_type": "display_data",
          "data": {
            "text/plain": [
              "<Figure size 640x480 with 1 Axes>"
            ],
            "image/png": "[encoded data removed]"
          },
          "metadata": {}
        }
      ]
    },
    {
      "cell_type": "code",
      "source": [
        "## Disegno un grafico a barre\n",
        "\n",
        "# Ricavo figura e assi creando un subplot\n",
        "fig, ax = plt.subplots()\n",
        "\n",
        "# Creo il bar passando array di valori x e y\n",
        "ax.bar([1,2,3,4], [2,4,3,8])"
      ],
      "metadata": {
        "id": "E2bzDs_Fsmex",
        "colab": {
          "base_uri": "https://localhost:8080/",
          "height": 448
        },
        "outputId": "e4e92ca3-aa67-42fd-aa7f-5dca498de2fd"
      },
      "execution_count": null,
      "outputs": [
        {
          "output_type": "execute_result",
          "data": {
            "text/plain": [
              "<BarContainer object of 4 artists>"
            ]
          },
          "metadata": {},
          "execution_count": 80
        },
        {
          "output_type": "display_data",
          "data": {
            "text/plain": [
              "<Figure size 640x480 with 1 Axes>"
            ],
            "image/png": "[encoded data removed]"
          },
          "metadata": {}
        }
      ]
    },
    {
      "cell_type": "code",
      "source": [
        "## Disegno un grafico scatter\n",
        "\n",
        "# Creo un dizionario vuoto di dati\n",
        "data = {}\n",
        "\n",
        "# Inserisco in \"a\" tutti i numeri da 0 a 49 (arange)\n",
        "data[\"a\"] = np.arange(50)\n",
        "#print(\"a\")\n",
        "#print(data[\"a\"])\n",
        "\n",
        "\n",
        "# Inserisco in \"c\" 50 numeri casuali da 0 a 49 (randint)\n",
        "data[\"c\"] = np.random.randint(0, 50, 50)\n",
        "#print(\"c\")\n",
        "#print(data[\"c\"])\n",
        "\n",
        "# Inserisco in \"d\" 50 numeri casuali dalla distribuzione normale standard (randn)\n",
        "data[\"d\"] = np.random.randn(50)\n",
        "#print(\"d\")\n",
        "#print(data[\"d\"])\n",
        "\n",
        "# Inserisco in \"b\" i valori di a + 10 * un numero della distribuzione normale standard\n",
        "data[\"b\"] = data[\"a\"] + 10 * np.random.randn(50)\n",
        "#print(\"b\")\n",
        "#print(data[\"b\"])\n",
        "\n",
        "# Inserisco in \"d\" i valori assoluti di d moltiplicati per 100\n",
        "data[\"d\"] = abs(data[\"d\"]) * 100\n",
        "#print(\"d\")\n",
        "#print(data[\"d\"])\n",
        "\n",
        "# Creo la figura e gli assi\n",
        "fig, ax = plt.subplots()\n",
        "\n",
        "# Imposto le label degli assi\n",
        "ax.set_xlabel = \"Asse x\"\n",
        "ax.set_ylabel = \"Asse y\"\n",
        "\n",
        "# Creo un grafico scatter con:\n",
        "# a e b come dati\n",
        "# c come array di colori (parametro c)\n",
        "# d come grandezza dei punti (parametro s)\n",
        "ax.scatter(\n",
        "    x = data[\"a\"],\n",
        "    y = data[\"b\"],\n",
        "    c = data[\"c\"],\n",
        "    s = data[\"d\"]\n",
        "    )\n"
      ],
      "metadata": {
        "id": "7fzRG2iTmQwb",
        "colab": {
          "base_uri": "https://localhost:8080/",
          "height": 448
        },
        "outputId": "ef2ca7a4-f713-4814-ff66-f83e657ecca0"
      },
      "execution_count": null,
      "outputs": [
        {
          "output_type": "execute_result",
          "data": {
            "text/plain": [
              "<matplotlib.collections.PathCollection at 0x7f8c0127b9a0>"
            ]
          },
          "metadata": {},
          "execution_count": 101
        },
        {
          "output_type": "display_data",
          "data": {
            "text/plain": [
              "<Figure size 640x480 with 1 Axes>"
            ],
            "image/png": "[encoded data removed]"
          },
          "metadata": {}
        }
      ]
    },
    {
      "cell_type": "code",
      "source": [
        "## Simuliamo il risultato di una computazione quantistica\n",
        "\n",
        "# Definiamo lo stato quantistico come array di ampiezze di probabilità\n",
        "# Estraendo numeri casuali con randint\n",
        "stati = np.random.randint(0, 25, 4)\n",
        "print(stati)\n",
        "\n",
        "# Trovo la norma dell'array con linalg.norm\n",
        "norma = np.linalg.norm(stati)\n",
        "print(norma)\n",
        "\n",
        "# Normalizzo l'array dividendo ogni elemento per la norma (lunghezza 1)\n",
        "normalizzato = stati / norma\n",
        "print(normalizzato)\n",
        "\n",
        "# Calcola le ampiezze al quadrato (la probabilità)\n",
        "probabilità = normalizzato * normalizzato\n",
        "print(probabilità)\n",
        "\n",
        "# Crea l'array delle etichette per gli stati (0, AB, A, B)\n",
        "etichette = [\"0\", \"A\", \"B\", \"AB\"]\n",
        "print(etichette)\n",
        "\n",
        "# Mostra il grafico delle ampiezze\n",
        "fig, ax = plt.subplots()\n",
        "ax.bar(etichette, probabilità)"
      ],
      "metadata": {
        "id": "nRTJi754mjoK",
        "colab": {
          "base_uri": "https://localhost:8080/",
          "height": 537
        },
        "outputId": "a7aa0c8e-a08d-4eb5-ced2-7f35fa6e6afb"
      },
      "execution_count": null,
      "outputs": [
        {
          "output_type": "stream",
          "name": "stdout",
          "text": [
            "[18 24 22  9]\n",
            "38.27531841800928\n",
            "[0.47027695 0.62703593 0.57478294 0.23513847]\n",
            "[0.22116041 0.39317406 0.33037543 0.0552901 ]\n",
            "['0', 'A', 'B', 'AB']\n"
          ]
        },
        {
          "output_type": "execute_result",
          "data": {
            "text/plain": [
              "<BarContainer object of 4 artists>"
            ]
          },
          "metadata": {},
          "execution_count": 113
        },
        {
          "output_type": "display_data",
          "data": {
            "text/plain": [
              "<Figure size 640x480 with 1 Axes>"
            ],
            "image/png": "[encoded data removed]"
          },
          "metadata": {}
        }
      ]
    },
    {
      "cell_type": "code",
      "source": [
        "!ls"
      ],
      "metadata": {
        "id": "7J0f4dLztV5d",
        "colab": {
          "base_uri": "https://localhost:8080/"
        },
        "outputId": "11d6bfd1-8d7c-4de0-9bf7-9e5b72970dee"
      },
      "execution_count": null,
      "outputs": [
        {
          "output_type": "stream",
          "name": "stdout",
          "text": [
            "sample_data\n"
          ]
        }
      ]
    },
    {
      "cell_type": "code",
      "source": [
        "!ls -la"
      ],
      "metadata": {
        "colab": {
          "base_uri": "https://localhost:8080/"
        },
        "id": "pwCC8ztV9fS5",
        "outputId": "96192470-b42b-4d53-9e80-9796a934d268"
      },
      "execution_count": null,
      "outputs": [
        {
          "output_type": "stream",
          "name": "stdout",
          "text": [
            "total 16\n",
            "drwxr-xr-x 1 root root 4096 Jul  6 13:44 .\n",
            "drwxr-xr-x 1 root root 4096 Jul 10 12:19 ..\n",
            "drwxr-xr-x 4 root root 4096 Jul  6 13:43 .config\n",
            "drwxr-xr-x 1 root root 4096 Jul  6 13:44 sample_data\n"
          ]
        }
      ]
    },
    {
      "cell_type": "code",
      "source": [
        "!pip install qiskit --quiet"
      ],
      "metadata": {
        "id": "hQzJa-gX9h5Y"
      },
      "execution_count": null,
      "outputs": []
    },
    {
      "cell_type": "code",
      "source": [
        "import qiskit as qk"
      ],
      "metadata": {
        "id": "B6i7fN1s9mBJ"
      },
      "execution_count": null,
      "outputs": []
    },
    {
      "cell_type": "code",
      "source": [
        "qk.__version__"
      ],
      "metadata": {
        "id": "9qQ5qwu19vvo",
        "outputId": "78079e77-478f-479c-c917-2bffffa71fdb",
        "colab": {
          "base_uri": "https://localhost:8080/",
          "height": 35
        }
      },
      "execution_count": null,
      "outputs": [
        {
          "output_type": "execute_result",
          "data": {
            "text/plain": [
              "'0.24.1'"
            ],
            "application/vnd.google.colaboratory.intrinsic+json": {
              "type": "string"
            }
          },
          "metadata": {},
          "execution_count": 118
        }
      ]
    },
    {
      "cell_type": "code",
      "source": [],
      "metadata": {
        "id": "DtMbYCeR9xJ4"
      },
      "execution_count": null,
      "outputs": []
    }
  ]
}