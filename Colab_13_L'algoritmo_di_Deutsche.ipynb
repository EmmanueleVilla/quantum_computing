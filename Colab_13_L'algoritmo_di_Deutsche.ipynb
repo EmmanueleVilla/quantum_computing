{
  "nbformat": 4,
  "nbformat_minor": 0,
  "metadata": {
    "colab": {
      "provenance": [],
      "authorship_tag": "ABX9TyM5QGQzEBXXa3Kuw3Wl0tPx",
      "include_colab_link": true
    },
    "kernelspec": {
      "name": "python3",
      "display_name": "Python 3"
    },
    "language_info": {
      "name": "python"
    }
  },
  "cells": [
    {
      "cell_type": "markdown",
      "metadata": {
        "id": "view-in-github",
        "colab_type": "text"
      },
      "source": [
        "<a href=\"https://colab.research.google.com/github/EmmanueleVilla/quantum_computing/blob/main/Colab_13_L'algoritmo_di_Deutsche.ipynb\" target=\"_parent\"><img src=\"https://colab.research.google.com/assets/colab-badge.svg\" alt=\"Open In Colab\"/></a>"
      ]
    },
    {
      "cell_type": "code",
      "execution_count": 1,
      "metadata": {
        "id": "m6LW92YwD-KZ"
      },
      "outputs": [],
      "source": [
        "import numpy as np"
      ]
    },
    {
      "cell_type": "markdown",
      "source": [
        "## Problema versione 1 e soluzione classica"
      ],
      "metadata": {
        "id": "NMl1PbwcKWz0"
      }
    },
    {
      "cell_type": "code",
      "source": [
        "def f0(x):\n",
        "  return 0"
      ],
      "metadata": {
        "id": "3Ig0LaELJ4ns"
      },
      "execution_count": 2,
      "outputs": []
    },
    {
      "cell_type": "code",
      "source": [
        "def f1(x):\n",
        "  return x"
      ],
      "metadata": {
        "id": "qVZTjPvrJ7f7"
      },
      "execution_count": 3,
      "outputs": []
    },
    {
      "cell_type": "code",
      "source": [
        "def f2(x):\n",
        "  if x == 0:\n",
        "    return 1\n",
        "  return 0"
      ],
      "metadata": {
        "id": "kqyltPScJ-Bj"
      },
      "execution_count": 4,
      "outputs": []
    },
    {
      "cell_type": "code",
      "source": [
        "def f3(x):\n",
        "  return 1"
      ],
      "metadata": {
        "id": "RWFZ5nm5KCgb"
      },
      "execution_count": 5,
      "outputs": []
    },
    {
      "cell_type": "code",
      "source": [
        "funzioni = [f0, f1, f2, f3]\n",
        "funzioni"
      ],
      "metadata": {
        "colab": {
          "base_uri": "https://localhost:8080/"
        },
        "id": "7_RIgiTVKGnD",
        "outputId": "3ff20a65-9cd1-4aee-c420-063a94743b03"
      },
      "execution_count": 7,
      "outputs": [
        {
          "output_type": "execute_result",
          "data": {
            "text/plain": [
              "[<function __main__.f0(x)>,\n",
              " <function __main__.f1(x)>,\n",
              " <function __main__.f2(x)>,\n",
              " <function __main__.f3(x)>]"
            ]
          },
          "metadata": {},
          "execution_count": 7
        }
      ]
    },
    {
      "cell_type": "code",
      "source": [
        "funzioni[1](1)"
      ],
      "metadata": {
        "colab": {
          "base_uri": "https://localhost:8080/"
        },
        "id": "OaZNUdrYKLJE",
        "outputId": "278c4358-074d-4ce4-a34c-2205fa527178"
      },
      "execution_count": 9,
      "outputs": [
        {
          "output_type": "execute_result",
          "data": {
            "text/plain": [
              "1"
            ]
          },
          "metadata": {},
          "execution_count": 9
        }
      ]
    },
    {
      "cell_type": "code",
      "source": [
        "f = funzioni[np.random.randint(4)]\n",
        "print(f)\n",
        "if f(0) == f(1):\n",
        "  print(\"Costante\")\n",
        "else:\n",
        "  print(\"Bilanciata\")"
      ],
      "metadata": {
        "colab": {
          "base_uri": "https://localhost:8080/"
        },
        "id": "CpXElIZfKQAj",
        "outputId": "98dfd04f-0b3c-476f-e5b5-0e915f803f13"
      },
      "execution_count": 23,
      "outputs": [
        {
          "output_type": "stream",
          "name": "stdout",
          "text": [
            "<function f1 at 0x78f886f33400>\n",
            "Bilanciata\n"
          ]
        }
      ]
    },
    {
      "cell_type": "markdown",
      "source": [
        "## Problema versione 2 e soluzione classica"
      ],
      "metadata": {
        "id": "qY9t1xWgLSnK"
      }
    },
    {
      "cell_type": "code",
      "source": [
        "def binary_array_to_decimal(arr):\n",
        "  decimal_number = 0\n",
        "  n = len(arr)\n",
        "  for i in range(n):\n",
        "    decimal_number += arr[n-1-i] * (2**i)\n",
        "  return decimal_number\n",
        "\n",
        "print(binary_array_to_decimal([1]))\n",
        "print(binary_array_to_decimal([1, 0]))\n",
        "print(binary_array_to_decimal([1, 0, 1, 1]))\n",
        "print(binary_array_to_decimal([1, 1, 1, 1, 1, 1]))"
      ],
      "metadata": {
        "colab": {
          "base_uri": "https://localhost:8080/"
        },
        "id": "9qKrVXkaKdyD",
        "outputId": "5a215644-2566-4031-e83c-9f65009d5f87"
      },
      "execution_count": 25,
      "outputs": [
        {
          "output_type": "stream",
          "name": "stdout",
          "text": [
            "1\n",
            "2\n",
            "11\n",
            "63\n"
          ]
        }
      ]
    },
    {
      "cell_type": "code",
      "source": [
        "def f0(x1, x2, x3, x4, x5, x6):\n",
        "  return 0\n",
        "\n",
        "def f1(x1, x2, x3, x4, x5, x6):\n",
        "  decimal = binary_array_to_decimal([x1, x2, x3, x4, x5, x6])\n",
        "  if decimal < 32:\n",
        "    return 1\n",
        "  return 0\n",
        "\n",
        "def f2(x1, x2, x3, x4, x5, x6):\n",
        "  decimal = binary_array_to_decimal([x1, x2, x3, x4, x5, x6])\n",
        "  if decimal > 31:\n",
        "    return 1\n",
        "  return 0\n",
        "\n",
        "def f3(x1, x2, x3, x4, x5, x6):\n",
        "  return 1\n",
        "\n",
        "funzioni = [f0, f1, f2, f3]\n",
        "funzioni"
      ],
      "metadata": {
        "colab": {
          "base_uri": "https://localhost:8080/"
        },
        "id": "BX7OozaQLTeh",
        "outputId": "a6148a11-1f68-4472-cc4a-4b4443bf822d"
      },
      "execution_count": 29,
      "outputs": [
        {
          "output_type": "execute_result",
          "data": {
            "text/plain": [
              "[<function __main__.f0(x1, x2, x3, x4, x5, x6)>,\n",
              " <function __main__.f1(x1, x2, x3, x4, x5, x6)>,\n",
              " <function __main__.f2(x1, x2, x3, x4, x5, x6)>,\n",
              " <function __main__.f3(x1, x2, x3, x4, x5, x6)>]"
            ]
          },
          "metadata": {},
          "execution_count": 29
        }
      ]
    },
    {
      "cell_type": "code",
      "source": [
        "def test():\n",
        "  f = funzioni[np.random.randint(4)]\n",
        "  print(f)\n",
        "  value = f(0, 0, 0, 0, 0, 0)\n",
        "  try_count = 0\n",
        "  for i in range(2):\n",
        "    for j in range(2):\n",
        "      for k in range(2):\n",
        "        for l in range(2):\n",
        "          for m in range(2):\n",
        "            for n in range(2):\n",
        "              new_value = f(i, j, k, l, m, n)\n",
        "              if new_value != value:\n",
        "                print(\"Bilanciata\")\n",
        "                return\n",
        "              try_count += 1\n",
        "              if try_count > 32:\n",
        "                print(\"Costante\")\n",
        "                return\n",
        "test()"
      ],
      "metadata": {
        "colab": {
          "base_uri": "https://localhost:8080/"
        },
        "id": "AIgkLM2WMvS_",
        "outputId": "6c08b028-f88b-4895-ce20-d3a9143ec398"
      },
      "execution_count": 33,
      "outputs": [
        {
          "output_type": "stream",
          "name": "stdout",
          "text": [
            "<function f0 at 0x78f87df24550>\n",
            "Costante\n"
          ]
        }
      ]
    },
    {
      "cell_type": "code",
      "source": [],
      "metadata": {
        "id": "Nv7un7AQN6LT"
      },
      "execution_count": null,
      "outputs": []
    },
    {
      "cell_type": "markdown",
      "source": [
        "## Problema versione 2 e soluzione quantistica"
      ],
      "metadata": {
        "id": "12VaW4wjSVns"
      }
    },
    {
      "cell_type": "code",
      "source": [
        "!pip install qiskit --quiet && pip install pylatexenc --quiet"
      ],
      "metadata": {
        "colab": {
          "base_uri": "https://localhost:8080/"
        },
        "id": "1Z9B0NlFSWyZ",
        "outputId": "cf694d35-9d34-411c-dc90-551388abe252"
      },
      "execution_count": 34,
      "outputs": [
        {
          "output_type": "stream",
          "name": "stdout",
          "text": [
            "  Installing build dependencies ... \u001b[?25l\u001b[?25hdone\n",
            "  Getting requirements to build wheel ... \u001b[?25l\u001b[?25hdone\n",
            "  Installing backend dependencies ... \u001b[?25l\u001b[?25hdone\n",
            "  Preparing metadata (pyproject.toml) ... \u001b[?25l\u001b[?25hdone\n",
            "\u001b[2K     \u001b[90m━━━━━━━━━━━━━━━━━━━━━━━━━━━━━━━━━━━━━━━━\u001b[0m \u001b[32m6.0/6.0 MB\u001b[0m \u001b[31m13.6 MB/s\u001b[0m eta \u001b[36m0:00:00\u001b[0m\n",
            "\u001b[2K     \u001b[90m━━━━━━━━━━━━━━━━━━━━━━━━━━━━━━━━━━━━━━━━\u001b[0m \u001b[32m12.8/12.8 MB\u001b[0m \u001b[31m26.2 MB/s\u001b[0m eta \u001b[36m0:00:00\u001b[0m\n",
            "\u001b[2K     \u001b[90m━━━━━━━━━━━━━━━━━━━━━━━━━━━━━━━━━━━━━━\u001b[0m \u001b[32m241.5/241.5 kB\u001b[0m \u001b[31m17.0 MB/s\u001b[0m eta \u001b[36m0:00:00\u001b[0m\n",
            "\u001b[2K     \u001b[90m━━━━━━━━━━━━━━━━━━━━━━━━━━━━━━━━━━━━━━\u001b[0m \u001b[32m129.9/129.9 kB\u001b[0m \u001b[31m14.5 MB/s\u001b[0m eta \u001b[36m0:00:00\u001b[0m\n",
            "\u001b[2K     \u001b[90m━━━━━━━━━━━━━━━━━━━━━━━━━━━━━━━━━━━━━━━━\u001b[0m \u001b[32m1.9/1.9 MB\u001b[0m \u001b[31m73.3 MB/s\u001b[0m eta \u001b[36m0:00:00\u001b[0m\n",
            "\u001b[2K     \u001b[90m━━━━━━━━━━━━━━━━━━━━━━━━━━━━━━━━━━━━━━━━\u001b[0m \u001b[32m49.6/49.6 kB\u001b[0m \u001b[31m5.6 MB/s\u001b[0m eta \u001b[36m0:00:00\u001b[0m\n",
            "\u001b[2K     \u001b[90m━━━━━━━━━━━━━━━━━━━━━━━━━━━━━━━━━━━━━━\u001b[0m \u001b[32m115.3/115.3 kB\u001b[0m \u001b[31m12.4 MB/s\u001b[0m eta \u001b[36m0:00:00\u001b[0m\n",
            "\u001b[2K     \u001b[90m━━━━━━━━━━━━━━━━━━━━━━━━━━━━━━━━━━━━━━━━\u001b[0m \u001b[32m49.6/49.6 kB\u001b[0m \u001b[31m5.4 MB/s\u001b[0m eta \u001b[36m0:00:00\u001b[0m\n",
            "\u001b[2K     \u001b[90m━━━━━━━━━━━━━━━━━━━━━━━━━━━━━━━━━━━━━━━━\u001b[0m \u001b[32m37.5/37.5 MB\u001b[0m \u001b[31m14.5 MB/s\u001b[0m eta \u001b[36m0:00:00\u001b[0m\n",
            "\u001b[2K     \u001b[90m━━━━━━━━━━━━━━━━━━━━━━━━━━━━━━━━━━━━━━\u001b[0m \u001b[32m112.7/112.7 kB\u001b[0m \u001b[31m11.7 MB/s\u001b[0m eta \u001b[36m0:00:00\u001b[0m\n",
            "\u001b[?25h  Building wheel for qiskit (pyproject.toml) ... \u001b[?25l\u001b[?25hdone\n",
            "\u001b[2K     \u001b[90m━━━━━━━━━━━━━━━━━━━━━━━━━━━━━━━━━━━━━━━\u001b[0m \u001b[32m162.6/162.6 kB\u001b[0m \u001b[31m2.4 MB/s\u001b[0m eta \u001b[36m0:00:00\u001b[0m\n",
            "\u001b[?25h  Preparing metadata (setup.py) ... \u001b[?25l\u001b[?25hdone\n",
            "  Building wheel for pylatexenc (setup.py) ... \u001b[?25l\u001b[?25hdone\n"
          ]
        }
      ]
    },
    {
      "cell_type": "code",
      "source": [
        "import numpy as np\n",
        "from qiskit import Aer, QuantumCircuit, transpile\n",
        "\n",
        "from qiskit.visualization import plot_histogram"
      ],
      "metadata": {
        "id": "DXYPXmsgSaMa"
      },
      "execution_count": 73,
      "outputs": []
    },
    {
      "cell_type": "code",
      "source": [
        "n = 3"
      ],
      "metadata": {
        "id": "J5CdUBjwSoXJ"
      },
      "execution_count": 36,
      "outputs": []
    },
    {
      "cell_type": "code",
      "source": [
        "const_oracle_zero = QuantumCircuit(n+1)\n",
        "const_oracle_zero.draw(output=\"mpl\")"
      ],
      "metadata": {
        "colab": {
          "base_uri": "https://localhost:8080/",
          "height": 320
        },
        "id": "ylQqAPm-Sp2h",
        "outputId": "9b49d896-606e-48b8-8468-d4dfba0691c0"
      },
      "execution_count": 37,
      "outputs": [
        {
          "output_type": "execute_result",
          "data": {
            "text/plain": [
              "<Figure size 162.08x367.889 with 1 Axes>"
            ],
            "image/png": "[encoded data removed]"
          },
          "metadata": {},
          "execution_count": 37
        }
      ]
    },
    {
      "cell_type": "code",
      "source": [
        "const_oracle_one = QuantumCircuit(n+1)\n",
        "const_oracle_one.x(n)\n",
        "const_oracle_one.draw(output=\"mpl\")"
      ],
      "metadata": {
        "colab": {
          "base_uri": "https://localhost:8080/",
          "height": 320
        },
        "id": "jyvz9GRZSz75",
        "outputId": "7dd32516-d988-46c9-d22f-a8b21e5d3f8a"
      },
      "execution_count": 38,
      "outputs": [
        {
          "output_type": "execute_result",
          "data": {
            "text/plain": [
              "<Figure size 203.885x367.889 with 1 Axes>"
            ],
            "image/png": "[encoded data removed]"
          },
          "metadata": {},
          "execution_count": 38
        }
      ]
    },
    {
      "cell_type": "code",
      "source": [
        "balanced_oracle_zero = QuantumCircuit(n+1)\n",
        "for qubit in range(n):\n",
        "  balanced_oracle_zero.cx(qubit, n)\n",
        "balanced_oracle_zero.draw(output=\"mpl\")"
      ],
      "metadata": {
        "colab": {
          "base_uri": "https://localhost:8080/",
          "height": 320
        },
        "id": "GDzH-SJES65x",
        "outputId": "e7d389a1-75b8-435c-fbd1-1fa9e5272d4e"
      },
      "execution_count": 39,
      "outputs": [
        {
          "output_type": "execute_result",
          "data": {
            "text/plain": [
              "<Figure size 371.107x367.889 with 1 Axes>"
            ],
            "image/png": "[encoded data removed]"
          },
          "metadata": {},
          "execution_count": 39
        }
      ]
    },
    {
      "cell_type": "code",
      "source": [
        "# 000 = 0\n",
        "# 001 = 1\n",
        "# 010 = 1\n",
        "# 011 = 0\n",
        "# 100 = 1\n",
        "# 101 = 0\n",
        "# 110 = 0\n",
        "# 111 = 1"
      ],
      "metadata": {
        "id": "x5PZ4-7rTGfh"
      },
      "execution_count": 40,
      "outputs": []
    },
    {
      "cell_type": "code",
      "source": [
        "balanced_oracle_one = QuantumCircuit(n+1)\n",
        "balanced_oracle_one.x(2)\n",
        "for qubit in range(n):\n",
        "  balanced_oracle_one.cx(qubit, n)\n",
        "balanced_oracle_one.x(2)\n",
        "balanced_oracle_one.draw(output=\"mpl\")"
      ],
      "metadata": {
        "colab": {
          "base_uri": "https://localhost:8080/",
          "height": 320
        },
        "id": "5DnxzZ51Tf4A",
        "outputId": "20bab02c-7dbe-469b-ff9c-6be9352df5c2"
      },
      "execution_count": 41,
      "outputs": [
        {
          "output_type": "execute_result",
          "data": {
            "text/plain": [
              "<Figure size 538.33x367.889 with 1 Axes>"
            ],
            "image/png": "[encoded data removed]"
          },
          "metadata": {},
          "execution_count": 41
        }
      ]
    },
    {
      "cell_type": "code",
      "source": [
        "# 000 = 1\n",
        "# 001 = 0\n",
        "# 010 = 0\n",
        "# 011 = 1\n",
        "# 100 = 0\n",
        "# 101 = 1\n",
        "# 110 = 1\n",
        "# 111 = 0"
      ],
      "metadata": {
        "id": "CYANQ_LaTmoA"
      },
      "execution_count": 42,
      "outputs": []
    },
    {
      "cell_type": "code",
      "source": [
        "oracoli = [balanced_oracle_zero, balanced_oracle_one, const_oracle_zero, const_oracle_one]"
      ],
      "metadata": {
        "id": "0Id0VkEATxG3"
      },
      "execution_count": 44,
      "outputs": []
    },
    {
      "cell_type": "code",
      "source": [
        "dj_circuit = QuantumCircuit(n+1, n)\n",
        "dj_circuit.x(n)\n",
        "dj_circuit.barrier(label=\"Init\")\n",
        "\n",
        "for qubit in range(n+1):\n",
        "  dj_circuit.h(qubit)\n",
        "dj_circuit.barrier(label=\"H gates\")\n",
        "\n",
        "oracolo = np.random.randint(len(oracoli))\n",
        "dj_circuit = dj_circuit.compose(oracoli[oracolo])\n",
        "dj_circuit.barrier(label=\"Oracolo\")\n",
        "\n",
        "for qubit in range(n):\n",
        "  dj_circuit.h(qubit)\n",
        "dj_circuit.barrier(label=\"H gates\")\n",
        "dj_circuit.measure([0,1,2], [0,1,2])\n",
        "\n",
        "dj_circuit.draw(output=\"mpl\")"
      ],
      "metadata": {
        "colab": {
          "base_uri": "https://localhost:8080/",
          "height": 351
        },
        "id": "RPb7-XqOT3U-",
        "outputId": "840aa008-7edd-4643-d62e-f8a290aaad52"
      },
      "execution_count": 60,
      "outputs": [
        {
          "output_type": "execute_result",
          "data": {
            "text/plain": [
              "<Figure size 1625.27x451.5 with 1 Axes>"
            ],
            "image/png": "[encoded data removed]"
          },
          "metadata": {},
          "execution_count": 60
        }
      ]
    },
    {
      "cell_type": "code",
      "source": [
        "aer_sim = Aer.get_backend(\"aer_simulator\")\n",
        "results = aer_sim.run(dj_circuit).result()\n",
        "plot_histogram(results.get_counts())"
      ],
      "metadata": {
        "colab": {
          "base_uri": "https://localhost:8080/",
          "height": 473
        },
        "id": "nJ3ZL14sUKNe",
        "outputId": "5604159c-c2a4-4036-9c4a-dcd5eeb13e64"
      },
      "execution_count": 61,
      "outputs": [
        {
          "output_type": "execute_result",
          "data": {
            "text/plain": [
              "<Figure size 700x500 with 1 Axes>"
            ],
            "image/png": "[encoded data removed]"
          },
          "metadata": {},
          "execution_count": 61
        }
      ]
    },
    {
      "cell_type": "code",
      "source": [],
      "metadata": {
        "id": "UwUujlARVHXM"
      },
      "execution_count": null,
      "outputs": []
    },
    {
      "cell_type": "markdown",
      "source": [
        "## Circuito con oracolo generalizzato"
      ],
      "metadata": {
        "id": "b-PPtXRrVW71"
      }
    },
    {
      "cell_type": "code",
      "source": [
        "def dj_oracle(balanced, n):\n",
        "  circuit = QuantumCircuit(n+1)\n",
        "  if balanced:\n",
        "    b = np.random.randint(0, 2, n)\n",
        "    for i in range(n):\n",
        "      if b[i] == 1:\n",
        "        circuit.x(i)\n",
        "    for i in range(n):\n",
        "      circuit.cx(i, n)\n",
        "    for i in range(n):\n",
        "      if b[i] == 1:\n",
        "        circuit.x(i)\n",
        "  else:\n",
        "    output = np.random.randint(2)\n",
        "    if output == 1:\n",
        "      circuit.x(n)\n",
        "  gate = circuit.to_gate()\n",
        "  gate.name = \"Oracle\"\n",
        "  return gate"
      ],
      "metadata": {
        "id": "CPduGHepVZB8"
      },
      "execution_count": 66,
      "outputs": []
    },
    {
      "cell_type": "code",
      "source": [
        "def dj_algorithm(oracle, n):\n",
        "  dj_circuit = QuantumCircuit(n+1, n)\n",
        "  dj_circuit.x(n)\n",
        "\n",
        "  for qubit in range(n+1):\n",
        "    dj_circuit.h(qubit)\n",
        "\n",
        "  dj_circuit.append(oracle, range(n+1))\n",
        "\n",
        "  for qubit in range(n):\n",
        "    dj_circuit.h(qubit)\n",
        "\n",
        "  for i in range(n):\n",
        "    dj_circuit.measure(i, i)\n",
        "\n",
        "  return dj_circuit"
      ],
      "metadata": {
        "id": "CcYaJOWDWEUa"
      },
      "execution_count": 70,
      "outputs": []
    },
    {
      "cell_type": "code",
      "source": [
        "n = 4\n",
        "oracle_gate = dj_oracle(True, n)\n",
        "dj_circuit = dj_algorithm(oracle_gate, n)\n",
        "dj_circuit.draw(output=\"mpl\")"
      ],
      "metadata": {
        "colab": {
          "base_uri": "https://localhost:8080/",
          "height": 449
        },
        "id": "AJAf638UWiVp",
        "outputId": "3036f663-ada6-450e-f8b5-2c04759caddf"
      },
      "execution_count": 75,
      "outputs": [
        {
          "output_type": "execute_result",
          "data": {
            "text/plain": [
              "<Figure size 872.774x535.111 with 1 Axes>"
            ],
            "image/png": "[encoded data removed]"
          },
          "metadata": {},
          "execution_count": 75
        }
      ]
    },
    {
      "cell_type": "code",
      "source": [
        "aer_sim = Aer.get_backend(\"aer_simulator\")\n",
        "dj_circuit_tranpiled = transpile(dj_circuit, aer_sim)\n",
        "\n",
        "results = aer_sim.run(dj_circuit_tranpiled).result()\n",
        "plot_histogram(results.get_counts())"
      ],
      "metadata": {
        "colab": {
          "base_uri": "https://localhost:8080/",
          "height": 484
        },
        "id": "K-mMi6qpXQqX",
        "outputId": "98c52fa4-80f0-4d94-8873-f1761913b3a3"
      },
      "execution_count": 76,
      "outputs": [
        {
          "output_type": "execute_result",
          "data": {
            "text/plain": [
              "<Figure size 700x500 with 1 Axes>"
            ],
            "image/png": "[encoded data removed]"
          },
          "metadata": {},
          "execution_count": 76
        }
      ]
    },
    {
      "cell_type": "code",
      "source": [],
      "metadata": {
        "id": "0okgqo1bXZnA"
      },
      "execution_count": null,
      "outputs": []
    }
  ]
}