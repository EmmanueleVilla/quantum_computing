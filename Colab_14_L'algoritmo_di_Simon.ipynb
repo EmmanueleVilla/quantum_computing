{
  "nbformat": 4,
  "nbformat_minor": 0,
  "metadata": {
    "colab": {
      "provenance": [],
      "authorship_tag": "ABX9TyOfBbZiMVw6vM+BfB26r4+X",
      "include_colab_link": true
    },
    "kernelspec": {
      "name": "python3",
      "display_name": "Python 3"
    },
    "language_info": {
      "name": "python"
    }
  },
  "cells": [
    {
      "cell_type": "markdown",
      "metadata": {
        "id": "view-in-github",
        "colab_type": "text"
      },
      "source": [
        "<a href=\"https://colab.research.google.com/github/EmmanueleVilla/quantum_computing/blob/main/Colab_14_L'algoritmo_di_Simon.ipynb\" target=\"_parent\"><img src=\"https://colab.research.google.com/assets/colab-badge.svg\" alt=\"Open In Colab\"/></a>"
      ]
    },
    {
      "cell_type": "code",
      "execution_count": 1,
      "metadata": {
        "colab": {
          "base_uri": "https://localhost:8080/"
        },
        "id": "bjWcuosJlImz",
        "outputId": "1df52de2-0595-4085-8779-ac8a782cf5d9"
      },
      "outputs": [
        {
          "output_type": "stream",
          "name": "stdout",
          "text": [
            "  Installing build dependencies ... \u001b[?25l\u001b[?25hdone\n",
            "  Getting requirements to build wheel ... \u001b[?25l\u001b[?25hdone\n",
            "  Installing backend dependencies ... \u001b[?25l\u001b[?25hdone\n",
            "  Preparing metadata (pyproject.toml) ... \u001b[?25l\u001b[?25hdone\n",
            "\u001b[2K     \u001b[90m━━━━━━━━━━━━━━━━━━━━━━━━━━━━━━━━━━━━━━━━\u001b[0m \u001b[32m6.0/6.0 MB\u001b[0m \u001b[31m27.5 MB/s\u001b[0m eta \u001b[36m0:00:00\u001b[0m\n",
            "\u001b[2K     \u001b[90m━━━━━━━━━━━━━━━━━━━━━━━━━━━━━━━━━━━━━━━━\u001b[0m \u001b[32m12.8/12.8 MB\u001b[0m \u001b[31m92.1 MB/s\u001b[0m eta \u001b[36m0:00:00\u001b[0m\n",
            "\u001b[2K     \u001b[90m━━━━━━━━━━━━━━━━━━━━━━━━━━━━━━━━━━━━━━\u001b[0m \u001b[32m241.5/241.5 kB\u001b[0m \u001b[31m26.4 MB/s\u001b[0m eta \u001b[36m0:00:00\u001b[0m\n",
            "\u001b[2K     \u001b[90m━━━━━━━━━━━━━━━━━━━━━━━━━━━━━━━━━━━━━━\u001b[0m \u001b[32m129.9/129.9 kB\u001b[0m \u001b[31m13.5 MB/s\u001b[0m eta \u001b[36m0:00:00\u001b[0m\n",
            "\u001b[2K     \u001b[90m━━━━━━━━━━━━━━━━━━━━━━━━━━━━━━━━━━━━━━━━\u001b[0m \u001b[32m1.9/1.9 MB\u001b[0m \u001b[31m96.7 MB/s\u001b[0m eta \u001b[36m0:00:00\u001b[0m\n",
            "\u001b[2K     \u001b[90m━━━━━━━━━━━━━━━━━━━━━━━━━━━━━━━━━━━━━━━━\u001b[0m \u001b[32m49.6/49.6 kB\u001b[0m \u001b[31m6.3 MB/s\u001b[0m eta \u001b[36m0:00:00\u001b[0m\n",
            "\u001b[2K     \u001b[90m━━━━━━━━━━━━━━━━━━━━━━━━━━━━━━━━━━━━━━\u001b[0m \u001b[32m115.3/115.3 kB\u001b[0m \u001b[31m12.8 MB/s\u001b[0m eta \u001b[36m0:00:00\u001b[0m\n",
            "\u001b[2K     \u001b[90m━━━━━━━━━━━━━━━━━━━━━━━━━━━━━━━━━━━━━━━━\u001b[0m \u001b[32m49.6/49.6 kB\u001b[0m \u001b[31m5.4 MB/s\u001b[0m eta \u001b[36m0:00:00\u001b[0m\n",
            "\u001b[2K     \u001b[90m━━━━━━━━━━━━━━━━━━━━━━━━━━━━━━━━━━━━━━━━\u001b[0m \u001b[32m37.5/37.5 MB\u001b[0m \u001b[31m22.6 MB/s\u001b[0m eta \u001b[36m0:00:00\u001b[0m\n",
            "\u001b[2K     \u001b[90m━━━━━━━━━━━━━━━━━━━━━━━━━━━━━━━━━━━━━━\u001b[0m \u001b[32m112.7/112.7 kB\u001b[0m \u001b[31m12.5 MB/s\u001b[0m eta \u001b[36m0:00:00\u001b[0m\n",
            "\u001b[?25h  Building wheel for qiskit (pyproject.toml) ... \u001b[?25l\u001b[?25hdone\n",
            "\u001b[2K     \u001b[90m━━━━━━━━━━━━━━━━━━━━━━━━━━━━━━━━━━━━━━━\u001b[0m \u001b[32m162.6/162.6 kB\u001b[0m \u001b[31m4.2 MB/s\u001b[0m eta \u001b[36m0:00:00\u001b[0m\n",
            "\u001b[?25h  Preparing metadata (setup.py) ... \u001b[?25l\u001b[?25hdone\n",
            "  Building wheel for pylatexenc (setup.py) ... \u001b[?25l\u001b[?25hdone\n"
          ]
        }
      ],
      "source": [
        "!pip install qiskit --quiet && pip install pylatexenc --quiet"
      ]
    },
    {
      "cell_type": "code",
      "source": [
        "import numpy as np\n",
        "\n",
        "from qiskit import Aer, QuantumCircuit, transpile\n",
        "from qiskit.visualization import plot_histogram\n"
      ],
      "metadata": {
        "id": "DHiJg_wPrrIz"
      },
      "execution_count": 3,
      "outputs": []
    },
    {
      "cell_type": "markdown",
      "source": [
        "## Soluzione classica al problema di Simon"
      ],
      "metadata": {
        "id": "gr1ZTwnYrjoz"
      }
    },
    {
      "cell_type": "code",
      "source": [
        "def xor(a,b):\n",
        "  output = \"\"\n",
        "  for i in range(len(a)):\n",
        "    output += str(int(a[i]) ^ int(b[i]))\n",
        "  return output"
      ],
      "metadata": {
        "id": "XuewZrTWrqRK"
      },
      "execution_count": 4,
      "outputs": []
    },
    {
      "cell_type": "code",
      "source": [
        "xor(\"111\", \"001\")"
      ],
      "metadata": {
        "colab": {
          "base_uri": "https://localhost:8080/",
          "height": 35
        },
        "id": "zik7xZjtsNeK",
        "outputId": "7ba7c507-6b9d-4ed4-b3b7-805b4770972d"
      },
      "execution_count": 7,
      "outputs": [
        {
          "output_type": "execute_result",
          "data": {
            "text/plain": [
              "'110'"
            ],
            "application/vnd.google.colaboratory.intrinsic+json": {
              "type": "string"
            }
          },
          "metadata": {},
          "execution_count": 7
        }
      ]
    },
    {
      "cell_type": "code",
      "source": [
        "def simon_function(x):\n",
        "  secret = \"110\"\n",
        "  if x==\"000\" or x==\"110\":\n",
        "    return \"101\"\n",
        "  if x == \"001\" or x == \"111\":\n",
        "    return \"010\"\n",
        "  if x == \"010\" or x == \"100\":\n",
        "    return \"111\"\n",
        "  if x == \"011\" or x == \"101\":\n",
        "    return \"000\""
      ],
      "metadata": {
        "id": "ORikv9d8sPp5"
      },
      "execution_count": 8,
      "outputs": []
    },
    {
      "cell_type": "code",
      "source": [
        "def find_secret():\n",
        "  inputs = [\"000\", \"001\", \"010\", \"011\", \"100\", \"101\", \"110\", \"111\"]\n",
        "  outputs = {}\n",
        "  for i in range(len(inputs)):\n",
        "    print(\"Provo l'input \" + inputs[i])\n",
        "    output = simon_function(inputs[i])\n",
        "    print(\"L'output è \" + output)\n",
        "    if output in outputs:\n",
        "      print(\"L'output era già stato ottenuto!\")\n",
        "      a = outputs[output]\n",
        "      b = inputs[i]\n",
        "      return xor(str(a), str(b))\n",
        "\n",
        "    outputs[inputs[i]] = output\n",
        "    print(\"dizionario degli output aggiornato!\")\n",
        "    print(outputs)"
      ],
      "metadata": {
        "id": "bBQXMZFsszRI"
      },
      "execution_count": 12,
      "outputs": []
    },
    {
      "cell_type": "code",
      "source": [
        "find_secret()"
      ],
      "metadata": {
        "colab": {
          "base_uri": "https://localhost:8080/",
          "height": 296
        },
        "id": "7sr1AtNcthKO",
        "outputId": "d5045761-1ddb-4290-d48f-9a41e8e01edf"
      },
      "execution_count": 13,
      "outputs": [
        {
          "output_type": "stream",
          "name": "stdout",
          "text": [
            "Provo l'input 000\n",
            "L'output è 101\n",
            "dizionario degli output aggiornato!\n",
            "{'000': '101'}\n",
            "Provo l'input 001\n",
            "L'output è 010\n",
            "dizionario degli output aggiornato!\n",
            "{'000': '101', '001': '010'}\n",
            "Provo l'input 010\n",
            "L'output è 111\n",
            "dizionario degli output aggiornato!\n",
            "{'000': '101', '001': '010', '010': '111'}\n",
            "Provo l'input 011\n",
            "L'output è 000\n",
            "L'output era già stato ottenuto!\n"
          ]
        },
        {
          "output_type": "execute_result",
          "data": {
            "text/plain": [
              "'110'"
            ],
            "application/vnd.google.colaboratory.intrinsic+json": {
              "type": "string"
            }
          },
          "metadata": {},
          "execution_count": 13
        }
      ]
    },
    {
      "cell_type": "code",
      "source": [],
      "metadata": {
        "id": "JIKTPDgOtumE"
      },
      "execution_count": null,
      "outputs": []
    },
    {
      "cell_type": "markdown",
      "source": [
        "## Soluzione quantistica al problema di Simon"
      ],
      "metadata": {
        "id": "Bqr6fNQvxhF7"
      }
    },
    {
      "cell_type": "code",
      "source": [
        "b = '110'\n",
        "n = len(b)\n",
        "simon_circuit = QuantumCircuit(2*n, n)\n",
        "simon_circuit.h(range(n))\n",
        "simon_circuit.barrier()\n",
        "\n",
        "simon_circuit.cx(0, 3)\n",
        "simon_circuit.cx(1, 4)\n",
        "simon_circuit.cx(2, 5)\n",
        "simon_circuit.cx(1, 4)\n",
        "simon_circuit.cx(1, 5)\n",
        "simon_circuit.barrier()\n",
        "\n",
        "simon_circuit.h(range(n))\n",
        "simon_circuit.barrier()\n",
        "simon_circuit.measure([0,1,2], [0,1,2])\n",
        "\n",
        "simon_circuit.draw(output=\"mpl\")"
      ],
      "metadata": {
        "colab": {
          "base_uri": "https://localhost:8080/",
          "height": 455
        },
        "id": "tpjOPBQFxigi",
        "outputId": "b893171b-557f-46b1-b7a8-24cba50e56a4"
      },
      "execution_count": 21,
      "outputs": [
        {
          "output_type": "execute_result",
          "data": {
            "text/plain": [
              "<Figure size 1207.22x618.722 with 1 Axes>"
            ],
            "image/png": "[encoded data removed]"
          },
          "metadata": {},
          "execution_count": 21
        }
      ]
    },
    {
      "cell_type": "code",
      "source": [
        "aer_sim = Aer.get_backend('aer_simulator')\n",
        "results = aer_sim.run(simon_circuit).result()\n",
        "counts = results.get_counts()\n",
        "plot_histogram(counts)"
      ],
      "metadata": {
        "colab": {
          "base_uri": "https://localhost:8080/",
          "height": 473
        },
        "id": "0jtZg35Ixt_C",
        "outputId": "867d9094-e3e2-4c8f-eb1f-8052b7e015f6"
      },
      "execution_count": 22,
      "outputs": [
        {
          "output_type": "execute_result",
          "data": {
            "text/plain": [
              "<Figure size 700x500 with 1 Axes>"
            ],
            "image/png": "[encoded data removed]"
          },
          "metadata": {},
          "execution_count": 22
        }
      ]
    },
    {
      "cell_type": "code",
      "source": [
        "def dot(x, y):\n",
        "  accum = 0\n",
        "  for i in range(len(x)):\n",
        "    accum += int(x[i]) * int(y[i])\n",
        "  return accum % 2"
      ],
      "metadata": {
        "id": "aOIbkBqOyv03"
      },
      "execution_count": 24,
      "outputs": []
    },
    {
      "cell_type": "code",
      "source": [
        "for count in counts:\n",
        "  print(\"110 dot \" + str(count) + \" = \" +  str(dot(\"110\", count)))"
      ],
      "metadata": {
        "colab": {
          "base_uri": "https://localhost:8080/"
        },
        "id": "MlDCwNG-zSOF",
        "outputId": "df3a323b-bfcb-4731-eecf-7f9b8667842f"
      },
      "execution_count": 26,
      "outputs": [
        {
          "output_type": "stream",
          "name": "stdout",
          "text": [
            "110 dot 110 = 0\n",
            "110 dot 001 = 0\n",
            "110 dot 000 = 0\n",
            "110 dot 111 = 0\n"
          ]
        }
      ]
    },
    {
      "cell_type": "code",
      "source": [
        "#s dot 001 = 0\n",
        "#s dot 111 = 0"
      ],
      "metadata": {
        "id": "yYIGHGLXzyRk"
      },
      "execution_count": null,
      "outputs": []
    }
  ]
}