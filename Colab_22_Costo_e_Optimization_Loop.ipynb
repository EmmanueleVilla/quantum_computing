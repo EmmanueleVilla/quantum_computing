{
  "nbformat": 4,
  "nbformat_minor": 0,
  "metadata": {
    "colab": {
      "provenance": [],
      "authorship_tag": "ABX9TyOiSyujAxld+ffHv6YUXOrV",
      "include_colab_link": true
    },
    "kernelspec": {
      "name": "python3",
      "display_name": "Python 3"
    },
    "language_info": {
      "name": "python"
    }
  },
  "cells": [
    {
      "cell_type": "markdown",
      "metadata": {
        "id": "view-in-github",
        "colab_type": "text"
      },
      "source": [
        "<a href=\"https://colab.research.google.com/github/EmmanueleVilla/quantum_computing/blob/main/Colab_22_Costo_e_Optimization_Loop.ipynb\" target=\"_parent\"><img src=\"https://colab.research.google.com/assets/colab-badge.svg\" alt=\"Open In Colab\"/></a>"
      ]
    },
    {
      "cell_type": "code",
      "execution_count": 1,
      "metadata": {
        "id": "pfMQ6HZkfF56"
      },
      "outputs": [],
      "source": [
        "!pip install qiskit --quiet && pip install pylatexenc --quiet && pip install qiskit-aer --quiet && pip install qiskit[nature] --quiet && pip install pyscf --quiet"
      ]
    },
    {
      "cell_type": "markdown",
      "source": [
        "## Esempio di funzioni di costo"
      ],
      "metadata": {
        "id": "e6GPPw6WA8tj"
      }
    },
    {
      "cell_type": "code",
      "source": [
        "from qiskit.circuit.library import TwoLocal\n",
        "from qiskit import QuantumCircuit\n",
        "from qiskit.primitives import Sampler, Estimator\n",
        "from qiskit.quantum_info import SparsePauliOp\n",
        "import numpy as np\n",
        "\n",
        "# Funzione di costo\n",
        "def cost_function_vqe(theta):\n",
        "\n",
        "  # Osservabile\n",
        "  observable = SparsePauliOp.from_list([(\"XX\", 1), (\"YY\", -3)])\n",
        "\n",
        "  # Circuito di riferimento\n",
        "  reference_circuit = QuantumCircuit(2)\n",
        "  reference_circuit.x(0)\n",
        "  reference_circuit.barrier()\n",
        "\n",
        "  # Variational form N-Locale\n",
        "  variational_form = TwoLocal(\n",
        "      2,\n",
        "      rotation_blocks=[\"rz\", \"ry\"],\n",
        "      entanglement_blocks=\"cx\",\n",
        "      entanglement=\"linear\",\n",
        "      reps=1,\n",
        "  )\n",
        "\n",
        "  # Ansatz\n",
        "  ansatz = reference_circuit.compose(variational_form)\n",
        "\n",
        "  # Mostra il circuito\n",
        "  display(ansatz.decompose().draw(\"mpl\"))\n",
        "\n",
        "\n",
        "  # Usa Estimator per ottenere l'expected value dell'ansatz\n",
        "  estimator = Estimator()\n",
        "  job = estimator.run(ansatz, observable, theta)\n",
        "  values = job.result().values\n",
        "\n",
        "  return values\n",
        "\n",
        "# Lista di parametri theta casuali\n",
        "theta_list = (2 * np.pi * np.random.rand(1, 8)).tolist()\n",
        "\n",
        "# Expected value\n",
        "cost_function_vqe(theta_list)"
      ],
      "metadata": {
        "id": "Kbk09UgtfJdj",
        "colab": {
          "base_uri": "https://localhost:8080/",
          "height": 209
        },
        "outputId": "9ae07beb-b708-435c-b39b-0b985406d082"
      },
      "execution_count": 11,
      "outputs": [
        {
          "output_type": "display_data",
          "data": {
            "text/plain": [
              "<Figure size 705.35x200.667 with 1 Axes>"
            ],
            "image/png": "[encoded data removed]"
          },
          "metadata": {}
        },
        {
          "output_type": "execute_result",
          "data": {
            "text/plain": [
              "array([0.73277923])"
            ]
          },
          "metadata": {},
          "execution_count": 11
        }
      ]
    },
    {
      "cell_type": "code",
      "source": [
        "!pip install qiskit-optimization"
      ],
      "metadata": {
        "colab": {
          "base_uri": "https://localhost:8080/"
        },
        "id": "9woowIxu8EdT",
        "outputId": "6b2f0f58-91ac-4c5a-d41f-cb4c004d8c4d"
      },
      "execution_count": 4,
      "outputs": [
        {
          "output_type": "stream",
          "name": "stdout",
          "text": [
            "Requirement already satisfied: qiskit-optimization in /usr/local/lib/python3.10/dist-packages (0.5.0)\n",
            "Requirement already satisfied: qiskit-terra>=0.22.4 in /usr/local/lib/python3.10/dist-packages (from qiskit-optimization) (0.25.0)\n",
            "Requirement already satisfied: scipy>=1.4 in /usr/local/lib/python3.10/dist-packages (from qiskit-optimization) (1.10.1)\n",
            "Requirement already satisfied: numpy>=1.17 in /usr/local/lib/python3.10/dist-packages (from qiskit-optimization) (1.22.4)\n",
            "Requirement already satisfied: docplex!=2.24.231,>=2.21.207 in /usr/local/lib/python3.10/dist-packages (from qiskit-optimization) (2.25.236)\n",
            "Requirement already satisfied: setuptools>=40.1.0 in /usr/local/lib/python3.10/dist-packages (from qiskit-optimization) (67.7.2)\n",
            "Requirement already satisfied: networkx>=2.6.3 in /usr/local/lib/python3.10/dist-packages (from qiskit-optimization) (3.1)\n",
            "Requirement already satisfied: six in /usr/local/lib/python3.10/dist-packages (from docplex!=2.24.231,>=2.21.207->qiskit-optimization) (1.16.0)\n",
            "Requirement already satisfied: rustworkx>=0.13.0 in /usr/local/lib/python3.10/dist-packages (from qiskit-terra>=0.22.4->qiskit-optimization) (0.13.1)\n",
            "Requirement already satisfied: ply>=3.10 in /usr/local/lib/python3.10/dist-packages (from qiskit-terra>=0.22.4->qiskit-optimization) (3.11)\n",
            "Requirement already satisfied: psutil>=5 in /usr/local/lib/python3.10/dist-packages (from qiskit-terra>=0.22.4->qiskit-optimization) (5.9.5)\n",
            "Requirement already satisfied: sympy>=1.3 in /usr/local/lib/python3.10/dist-packages (from qiskit-terra>=0.22.4->qiskit-optimization) (1.11.1)\n",
            "Requirement already satisfied: dill>=0.3 in /usr/local/lib/python3.10/dist-packages (from qiskit-terra>=0.22.4->qiskit-optimization) (0.3.7)\n",
            "Requirement already satisfied: python-dateutil>=2.8.0 in /usr/local/lib/python3.10/dist-packages (from qiskit-terra>=0.22.4->qiskit-optimization) (2.8.2)\n",
            "Requirement already satisfied: stevedore>=3.0.0 in /usr/local/lib/python3.10/dist-packages (from qiskit-terra>=0.22.4->qiskit-optimization) (5.1.0)\n",
            "Requirement already satisfied: symengine<0.10,>=0.9 in /usr/local/lib/python3.10/dist-packages (from qiskit-terra>=0.22.4->qiskit-optimization) (0.9.2)\n",
            "Requirement already satisfied: typing-extensions in /usr/local/lib/python3.10/dist-packages (from qiskit-terra>=0.22.4->qiskit-optimization) (4.7.1)\n",
            "Requirement already satisfied: pbr!=2.1.0,>=2.0.0 in /usr/local/lib/python3.10/dist-packages (from stevedore>=3.0.0->qiskit-terra>=0.22.4->qiskit-optimization) (5.11.1)\n",
            "Requirement already satisfied: mpmath>=0.19 in /usr/local/lib/python3.10/dist-packages (from sympy>=1.3->qiskit-terra>=0.22.4->qiskit-optimization) (1.3.0)\n"
          ]
        }
      ]
    },
    {
      "cell_type": "markdown",
      "source": [
        "## Da funzione di costo a osservabile"
      ],
      "metadata": {
        "id": "JvY84BHTBAOj"
      }
    },
    {
      "cell_type": "code",
      "source": [
        "# Calcolo il valore atteso dello stato |0>\n",
        "\n",
        "from qiskit import QuantumCircuit\n",
        "from qiskit.quantum_info import SparsePauliOp\n",
        "from qiskit.primitives import Sampler, Estimator\n",
        "from qiskit.circuit.library import IGate, ZGate\n",
        "import numpy as np\n",
        "\n",
        "# Creo lo stato |0>\n",
        "original_circuit = QuantumCircuit(1)\n",
        "\n",
        "# Creo l'osservabile\n",
        "H = SparsePauliOp([\"Z\"], [1])\n",
        "\n",
        "# Creo circuiti aggiuntivi per ogni porta della scomposizione dell'osservabile\n",
        "aux_circuits = []\n",
        "for pauli in H.paulis:\n",
        "    aux_circ = original_circuit.copy()\n",
        "    aux_circ.barrier()\n",
        "    if str(pauli) == \"X\":\n",
        "        aux_circ.h(0)\n",
        "    else:\n",
        "        aux_circ.i(0)\n",
        "    aux_circ.measure_all()\n",
        "    aux_circuits.append(aux_circ)\n",
        "\n",
        "display(original_circuit.draw(\"mpl\"))\n",
        "\n",
        "# Sampler\n",
        "sampler = Sampler()\n",
        "job = sampler.run(aux_circuits)\n",
        "probability_dists = job.result().quasi_dists\n",
        "\n",
        "expvals = []\n",
        "for dist, pauli in zip(probability_dists, H.paulis):\n",
        "    val = 0\n",
        "    if str(pauli) == \"I\":\n",
        "        Lambda = IGate().to_matrix().real\n",
        "    else:\n",
        "        Lambda = ZGate().to_matrix().real\n",
        "    val += Lambda[0][0] * dist.get(0, 0)\n",
        "    val += Lambda[1][1] * dist.get(1, 0)\n",
        "    expvals.append(val)\n",
        "\n",
        "# Estimator\n",
        "observables = [\n",
        "    *H.paulis,\n",
        "    H,\n",
        "]\n",
        "\n",
        "estimator = Estimator()\n",
        "job = estimator.run([original_circuit] * len(observables), observables)\n",
        "estimator_expvals = job.result().values\n",
        "\n",
        "for (obs, expval) in zip(observables, estimator_expvals):\n",
        "    if obs is H:\n",
        "        print(f\"  >> Valore atteso: {expval:.5f}\")"
      ],
      "metadata": {
        "colab": {
          "base_uri": "https://localhost:8080/",
          "height": 145
        },
        "id": "HevLM1jI8Wc4",
        "outputId": "dda27e14-9d4b-4a4c-f074-edd1e1d8333d"
      },
      "execution_count": 12,
      "outputs": [
        {
          "output_type": "display_data",
          "data": {
            "text/plain": [
              "<Figure size 143.647x117.056 with 1 Axes>"
            ],
            "image/png": "[encoded data removed]"
          },
          "metadata": {}
        },
        {
          "output_type": "stream",
          "name": "stdout",
          "text": [
            "  >> Valore atteso: 1.00000\n"
          ]
        }
      ]
    },
    {
      "cell_type": "markdown",
      "source": [
        "## Il problema del taglio massimo"
      ],
      "metadata": {
        "id": "qHoEnlW6BECs"
      }
    },
    {
      "cell_type": "code",
      "source": [
        "# Stampo il grafo del problema\n",
        "\n",
        "import networkx as nx\n",
        "\n",
        "n = 4\n",
        "G = nx.Graph()\n",
        "G.add_nodes_from(range(n))\n",
        "edge_list = [(0, 1, 1.0), (0, 2, 1.0), (0, 3, 1.0), (1, 2, 1.0), (2, 3, 1.0)]\n",
        "G.add_weighted_edges_from(edge_list)\n",
        "\n",
        "colors = [\"red\" for i in range(n)]\n",
        "\n",
        "layout = nx.shell_layout(G)\n",
        "nx.draw_networkx(G, node_color=colors, pos=layout)\n",
        "edge_labels = nx.get_edge_attributes(G, \"weight\")\n",
        "nx.draw_networkx_edge_labels(G, pos=layout, edge_labels=edge_labels)\n"
      ],
      "metadata": {
        "colab": {
          "base_uri": "https://localhost:8080/",
          "height": 495
        },
        "id": "M96J8mX_79lW",
        "outputId": "ce22112f-16f0-461e-b467-89b6728389b7"
      },
      "execution_count": 13,
      "outputs": [
        {
          "output_type": "execute_result",
          "data": {
            "text/plain": [
              "{(0, 1): Text(-0.4999999940375597, -0.5000000437113883, '1.0'),\n",
              " (0, 2): Text(0.0, 4.371138828673793e-08, '1.0'),\n",
              " (0, 3): Text(-0.500000168883119, 0.4999999562886117, '1.0'),\n",
              " (1, 2): Text(0.5000000059624403, -0.4999999125772234, '1.0'),\n",
              " (2, 3): Text(0.49999983111688096, 0.5000000874227766, '1.0')}"
            ]
          },
          "metadata": {},
          "execution_count": 13
        },
        {
          "output_type": "display_data",
          "data": {
            "text/plain": [
              "<Figure size 640x480 with 1 Axes>"
            ],
            "image/png": "[encoded data removed]"
          },
          "metadata": {}
        }
      ]
    },
    {
      "cell_type": "markdown",
      "source": [
        "## Osservabile"
      ],
      "metadata": {
        "id": "oBsS61yaBHfy"
      }
    },
    {
      "cell_type": "code",
      "source": [
        "from qiskit_optimization.applications import Maxcut\n",
        "from qiskit.algorithms.optimizers import COBYLA\n",
        "\n",
        "# Trasformo il grafo in array numpy\n",
        "w = nx.to_numpy_array(G)\n",
        "\n",
        "# Importo il modulo per il Maxcut problem\n",
        "max_cut = Maxcut(w)\n",
        "quadratic_program = max_cut.to_quadratic_program()\n",
        "observable, offset = quadratic_program.to_ising()\n",
        "print(f\"osservabile: {observable}\")\n",
        "print(f\"offset: {offset}\")"
      ],
      "metadata": {
        "colab": {
          "base_uri": "https://localhost:8080/"
        },
        "id": "YbxiqUBK0tWW",
        "outputId": "1b797417-fde6-4826-cdde-4a2ec3bba37a"
      },
      "execution_count": 14,
      "outputs": [
        {
          "output_type": "stream",
          "name": "stdout",
          "text": [
            "osservabile: 0.5 * IIZZ\n",
            "+ 0.5 * IZIZ\n",
            "+ 0.5 * IZZI\n",
            "+ 0.5 * ZIIZ\n",
            "+ 0.5 * ZZII\n",
            "offset: -2.5\n"
          ]
        }
      ]
    },
    {
      "cell_type": "markdown",
      "source": [
        "## Funzione di costo"
      ],
      "metadata": {
        "id": "C24gjcl7BI-c"
      }
    },
    {
      "cell_type": "code",
      "source": [
        "\n",
        "def cost_function_max_cut_vqe(theta):\n",
        "\n",
        "  # Creo l'ansatz\n",
        "  ansatz = TwoLocal(\n",
        "    observable.num_qubits, \"rx\", reps=1\n",
        "  )\n",
        "\n",
        "  # Eseguo la stima\n",
        "  estimator = Estimator()\n",
        "  job = estimator.run(ansatz, observable, theta)\n",
        "  values = job.result().values\n",
        "\n",
        "  return values"
      ],
      "metadata": {
        "id": "nz4hxhCO9ZS1"
      },
      "execution_count": 21,
      "outputs": []
    },
    {
      "cell_type": "markdown",
      "source": [
        "## Ottimizzazione"
      ],
      "metadata": {
        "id": "TxY28t4HBLnk"
      }
    },
    {
      "cell_type": "code",
      "source": [
        "# Funzione di ottimizzazione classica\n",
        "optimizer = COBYLA()\n",
        "\n",
        "# Inizio con tutti 1\n",
        "initial_theta = np.ones(8)\n",
        "\n",
        "# Eseguo l'ottimizzazione\n",
        "optimizer_result = optimizer.minimize(fun=cost_function_max_cut_vqe, x0=initial_theta)\n",
        "\n",
        "optimal_parameters = optimizer_result.x\n",
        "print(optimal_parameters)"
      ],
      "metadata": {
        "colab": {
          "base_uri": "https://localhost:8080/"
        },
        "id": "rEcM2U9KBMYQ",
        "outputId": "d08da14a-b130-4106-fa46-a82c73a4b3a7"
      },
      "execution_count": 18,
      "outputs": [
        {
          "output_type": "stream",
          "name": "stdout",
          "text": [
            "[ 1.21912639  0.25498488  1.20580137  0.70140314  1.92243514 -0.25503671\n",
            "  1.93575092 -0.70140044]\n"
          ]
        }
      ]
    },
    {
      "cell_type": "markdown",
      "source": [
        "## Verifica"
      ],
      "metadata": {
        "id": "5c7ZrM6uFllI"
      }
    },
    {
      "cell_type": "code",
      "source": [
        "from qiskit.primitives import Estimator\n",
        "from qiskit.algorithms.minimum_eigensolvers import VQE\n",
        "from qiskit.algorithms.optimizers import COBYLA\n",
        "from qiskit.circuit.library import TwoLocal\n",
        "import numpy as np\n",
        "\n",
        "# Creo ansatz, estimator e optimizer\n",
        "ansatz = TwoLocal(observable.num_qubits, \"rx\", reps=1)\n",
        "optimizer = COBYLA()\n",
        "estimator = Estimator()\n",
        "\n",
        "# Passo tutto al VQE\n",
        "vqe = VQE(\n",
        "    estimator=estimator,\n",
        "    ansatz=ansatz,\n",
        "    optimizer=optimizer,\n",
        "    initial_point=np.zeros(ansatz.num_parameters),\n",
        ")\n",
        "\n",
        "result = vqe.compute_minimum_eigenvalue(observable)\n",
        "\n",
        "print(result)"
      ],
      "metadata": {
        "colab": {
          "base_uri": "https://localhost:8080/"
        },
        "id": "LIoQ6lmJGxIo",
        "outputId": "5933a669-f648-4f9b-e3e7-674c9d6d4bf7"
      },
      "execution_count": 22,
      "outputs": [
        {
          "output_type": "stream",
          "name": "stdout",
          "text": [
            "{   'aux_operators_evaluated': None,\n",
            "    'cost_function_evals': 139,\n",
            "    'eigenvalue': -1.4999999987811397,\n",
            "    'optimal_circuit': <qiskit.circuit.library.n_local.two_local.TwoLocal object at 0x7dc9d2a22830>,\n",
            "    'optimal_parameters': {   ParameterVectorElement(θ[5]): 1.8411976315784566,\n",
            "                              ParameterVectorElement(θ[4]): 0.28862929295473855,\n",
            "                              ParameterVectorElement(θ[1]): 1.3004366844636701,\n",
            "                              ParameterVectorElement(θ[2]): -1.236293455691152,\n",
            "                              ParameterVectorElement(θ[0]): -0.28862642231947017,\n",
            "                              ParameterVectorElement(θ[3]): 2.715586863505642,\n",
            "                              ParameterVectorElement(θ[7]): 0.42597963418539364,\n",
            "                              ParameterVectorElement(θ[6]): 1.2362882193563711},\n",
            "    'optimal_point': array([-0.28862642,  1.30043668, -1.23629346,  2.71558686,  0.28862929,\n",
            "        1.84119763,  1.23628822,  0.42597963]),\n",
            "    'optimal_value': -1.4999999987811397,\n",
            "    'optimizer_evals': None,\n",
            "    'optimizer_result': <qiskit.algorithms.optimizers.optimizer.OptimizerResult object at 0x7dc9d2a20ca0>,\n",
            "    'optimizer_time': 0.38790225982666016}\n"
          ]
        }
      ]
    },
    {
      "cell_type": "code",
      "source": [
        "from qiskit.quantum_info import Statevector\n",
        "\n",
        "# Ottengo il circuito ottimizzato\n",
        "optimal_circuit = result.optimal_circuit.bind_parameters(result.optimal_parameters)\n",
        "optimal_circuit.decompose().draw(\"mpl\")"
      ],
      "metadata": {
        "colab": {
          "base_uri": "https://localhost:8080/",
          "height": 320
        },
        "id": "pMwrnaYpFmSE",
        "outputId": "46d42f82-2450-4c0c-b058-14b734fb05da"
      },
      "execution_count": 25,
      "outputs": [
        {
          "output_type": "execute_result",
          "data": {
            "text/plain": [
              "<Figure size 287.496x367.889 with 1 Axes>"
            ],
            "image/png": "[encoded data removed]"
          },
          "metadata": {},
          "execution_count": 25
        }
      ]
    },
    {
      "cell_type": "code",
      "source": [
        "from qiskit.visualization.state_visualization import array_to_latex\n",
        "\n",
        "# Ottengo lo state vector\n",
        "state_vector = Statevector(optimal_circuit)\n",
        "array_to_latex(state_vector, max_size=24)"
      ],
      "metadata": {
        "colab": {
          "base_uri": "https://localhost:8080/",
          "height": 39
        },
        "id": "RtAJu0WlH96w",
        "outputId": "4b46ff97-0c46-49cc-f472-fcab765c0c3f"
      },
      "execution_count": 30,
      "outputs": [
        {
          "output_type": "execute_result",
          "data": {
            "text/plain": [
              "<IPython.core.display.Latex object>"
            ],
            "text/latex": "$$\n\n\\begin{bmatrix}\n-3.0 \\cdot 10^{-10} & 0 & - 1.30779 \\cdot 10^{-5} i & 0 & 0 & 0 & 0 & 0 & 2.08312 \\cdot 10^{-5} i & 0 & -1 & 1.4353 \\cdot 10^{-6} i & -1.0 \\cdot 10^{-10} & 0 & - 2.6182 \\cdot 10^{-6} i & 0  \\\\\n \\end{bmatrix}\n$$"
          },
          "metadata": {},
          "execution_count": 30
        }
      ]
    },
    {
      "cell_type": "code",
      "source": [
        "from qiskit import Aer, transpile\n",
        "from qiskit.visualization import plot_histogram\n",
        "\n",
        "#Misurazione\n",
        "simulator = Aer.get_backend(\"aer_simulator\")\n",
        "qc = optimal_circuit.copy()\n",
        "qc.measure_all()\n",
        "qc_t = transpile(qc, simulator)\n",
        "result = simulator.run(qc_t).result()\n",
        "counts = result.get_counts()\n",
        "plot_histogram(counts)"
      ],
      "metadata": {
        "colab": {
          "base_uri": "https://localhost:8080/",
          "height": 484
        },
        "id": "SCmqMkTwIhgR",
        "outputId": "65aa9ce0-f91b-4b15-e588-baea254014b1"
      },
      "execution_count": 34,
      "outputs": [
        {
          "output_type": "execute_result",
          "data": {
            "text/plain": [
              "<Figure size 700x500 with 1 Axes>"
            ],
            "image/png": "[encoded data removed]"
          },
          "metadata": {},
          "execution_count": 34
        }
      ]
    },
    {
      "cell_type": "code",
      "source": [
        "# Disegno i due sottografi\n",
        "\n",
        "x = max_cut.sample_most_likely(state_vector)\n",
        "\n",
        "colors = [\"red\" if x[i] == 0 else \"orange\" for i in range(n)]\n",
        "\n",
        "layout = nx.shell_layout(G)\n",
        "nx.draw_networkx(G, node_color=colors, pos=layout)\n",
        "edge_labels = nx.get_edge_attributes(G, \"weight\")\n",
        "nx.draw_networkx_edge_labels(G, pos=layout, edge_labels=edge_labels)"
      ],
      "metadata": {
        "colab": {
          "base_uri": "https://localhost:8080/",
          "height": 495
        },
        "id": "lIFxCyNUFynI",
        "outputId": "85f44143-fbc0-4e71-8ae4-8b03940bcd58"
      },
      "execution_count": 36,
      "outputs": [
        {
          "output_type": "execute_result",
          "data": {
            "text/plain": [
              "{(0, 1): Text(-0.4999999940375597, -0.5000000437113883, '1.0'),\n",
              " (0, 2): Text(0.0, 4.371138828673793e-08, '1.0'),\n",
              " (0, 3): Text(-0.500000168883119, 0.4999999562886117, '1.0'),\n",
              " (1, 2): Text(0.5000000059624403, -0.4999999125772234, '1.0'),\n",
              " (2, 3): Text(0.49999983111688096, 0.5000000874227766, '1.0')}"
            ]
          },
          "metadata": {},
          "execution_count": 36
        },
        {
          "output_type": "display_data",
          "data": {
            "text/plain": [
              "<Figure size 640x480 with 1 Axes>"
            ],
            "image/png": "[encoded data removed]"
          },
          "metadata": {}
        }
      ]
    },
    {
      "cell_type": "code",
      "source": [],
      "metadata": {
        "id": "I8tO92sNH5BP"
      },
      "execution_count": null,
      "outputs": []
    }
  ]
}